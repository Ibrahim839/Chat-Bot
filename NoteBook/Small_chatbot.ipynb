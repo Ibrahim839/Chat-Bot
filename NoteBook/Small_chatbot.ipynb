{
 "cells": [
  {
   "cell_type": "markdown",
   "metadata": {
    "id": "YyOWMS4McAF1"
   },
   "source": [
    "# Import Liberaries "
   ]
  },
  {
   "cell_type": "code",
   "execution_count": 44,
   "metadata": {
    "id": "Q7aykQWj7_af"
   },
   "outputs": [],
   "source": [
    "import json \n",
    "from sklearn.preprocessing import LabelEncoder\n",
    "import numpy as np \n",
    "import tensorflow as tf\n",
    "from tensorflow.keras.utils import to_categorical\n",
    "from tensorflow.keras.preprocessing.text import Tokenizer\n",
    "from tensorflow.keras.preprocessing.sequence import pad_sequences"
   ]
  },
  {
   "cell_type": "markdown",
   "metadata": {
    "id": "NifGVcvTcHmG"
   },
   "source": [
    "Read Data"
   ]
  },
  {
   "cell_type": "code",
   "execution_count": 45,
   "metadata": {
    "id": "Cp_jWjBpcHBw"
   },
   "outputs": [],
   "source": [
    "with open('data1.json') as file:\n",
    "    data=json.load(file)"
   ]
  },
  {
   "cell_type": "code",
   "execution_count": 46,
   "metadata": {
    "colab": {
     "base_uri": "https://localhost:8080/"
    },
    "id": "bOLkBHgtcX6o",
    "outputId": "1765bb9f-e50b-40bb-b389-ccdaea501711"
   },
   "outputs": [
    {
     "data": {
      "text/plain": [
       "{'data': [{'label': 'greeting',\n",
       "   'patterns': ['Hi', 'Hey', 'Is anyone there?', 'Hello', 'Hay'],\n",
       "   'responses': ['Hello', 'Hi', 'Hi there', 'Hey']},\n",
       "  {'label': 'Visa and Entry Requirements',\n",
       "   'patterns': ['What are the visa requirements for visiting Egypt?',\n",
       "    'How do I obtain a tourist visa for Egypt?',\n",
       "    'Are there any entry restrictions or requirements due to COVID-19?'],\n",
       "   'responses': ['On Arrival:$27 (up to 30 days) or $62 (up to 90 days),By Mail:$62 for single entry,In Person:$70 for single entry,E-Visa:$25 for a single-entry',\n",
       "    'As of the latest information available, there are no mandatory COVID-19 vaccination or testing requirements for entering Egypt. However, travelers should still monitor official sources for potential updates, especially since global pandemic policies evolve rapidly. It is essential to adhere to general hygiene measures and follow any advice provided by local authorities']},\n",
       "  {'label': 'Safety and Security',\n",
       "   'patterns': ['Is Egypt a safe destination for tourists?',\n",
       "    'Are there any specific safety precautions I should be aware of?',\n",
       "    'What areas should I avoid as a tourist?'],\n",
       "   'responses': ['The Egyptian government has taken steps to improve security in recent years, and the overall threat level has decreased.',\n",
       "    'maintaining situational awareness and following local recommendations can greatly reduce the chances of experiencing issues while traveling in Egypt.',\n",
       "    'Some tips for staying safe in Egypt include:Monitor local news sources for potential dangers and adjust plans accordingly.Avoid crowded places, political demonstrations, and large gatherings.Keep valuables secure and avoid carrying excessive cash.Wear modest clothing, especially in religious sites and rural areas.Be cautious of scams and aggressive solicitations, especially in tourist areas.Hire reputable drivers and use established transport companies.Report crimes promptly to the Tourist Police or local police stations.Learn basic Arabic phrases to communicate effectively.Show respect for local customs, traditions, and religious beliefs.']},\n",
       "  {'label': 'Transportation',\n",
       "   'patterns': ['What are the transportation options available within Egypt?',\n",
       "    'How do I get from the airport to my accommodation?',\n",
       "    'Are there any recommended modes of transportation for traveling between cities or attractions?'],\n",
       "   'responses': ['Travelers in Egypt have access to a variety of transportation options:Land transportation: Buses, microbuses, taxis, rental cars,Waterway transportation,Airway transportation,Railroad transportation,Metropolitan transportation',\n",
       "    \"Egypt offers a diverse range of transportation options, catering to various budgets, travel styles, and distances. Here's a breakdown:Domestic Flights,Trains,Buses,Shared Taxis (Servees),Private Taxis,Local Transportation,\",\n",
       "    'Transportation options in Egypt:For long distances:Flights: Fast & convenient, best for major cities. Pre-book for deals.Trains: Affordable & comfortable, sleeper trains available. Consider class & women-only carriages.For shorter distances:Buses: Budget-friendly, air-conditioned options available. Comfort varies.Shared taxis: Flexible & affordable, negotiate fares. Can be crowded.Other options:Private taxis: Convenient & comfortable, negotiate fares & use reputable companies.Metro: Efficient & affordable in Cairo & Alexandria.Microbus: Cheap but crowded, serves specific routes in cities.Felucca: Scenic & leisurely sailboat cruises on the Nile.Choose based on:Distance: Flights/trains for long, buses/taxis for short.Budget: Buses & shared taxis cheapest, flights & private taxis most expensive.Comfort: Trains & private taxis more comfortable.Time: Flights fastest, buses & shared taxis slower.Experience: Trains, feluccas, camel rides offer unique experiences.']},\n",
       "  {'label': 'Accommodation',\n",
       "   'patterns': ['What are some recommended hotels or accommodations in cairo?',\n",
       "    'Are there any budget-friendly options available?',\n",
       "    'How can I book accommodation in advance?'],\n",
       "   'responses': ['I suggest the following highly regarded hotels in Cairo:The Nile Ritz-Carlton,Kempinski Nile Hotel Cairo,Steigenberger El Tahrir Plaza,Le Méridien Pyramids',\n",
       "    ' Sure, here are some hotel options in Cairo, Egypt:The Square Boutique Hotel - 3-star hotel for EGP 1,731 per night.Cairo Paradise Hotel - 3-star hotel for EGP 564 per night.Horizon Shahrazad - 4-star hotel for EGP 2,258 per night.Flamenco Cairo Hotel - 4-star hotel for EGP 3,492 per night.Holy Sheet Hostel - Hostel for EGP 836 per night.These are just a few of the many great hotels in Cairo. When making your decision, consider your budget, desired location, and amenities.',\n",
       "    'Budget-friendly:Cairo Paradise Hotel,Mid-range:The Square Boutique Hotel,Horizon Shahrazad,Luxury:Flamenco Cairo Hotel,Unique:Holy Sheet Hostel',\n",
       "    'To book accommodation in advance, consider the following guidelines:High season and popular destinations: Book several months in advance to secure desirable lodgings.Festivals and special events: Book well in advance to guarantee availability.Last-minute deals: Look for promotional rates close to departure, but be prepared for limited choices.Luxury accommodations: Search for deals and book in advance to secure discounts.Short stays: Book in advance to maximize time spent exploring the destination.Longer stays: Utilize websites like Airbnb for extended stays, allowing greater flexibility in booking.',\n",
       "    \"There are several ways to book accommodation in advance, here are a few popular options:Online booking platforms:Websites: Popular choices include Booking.com, Expedia, Agoda, Hostelworld (for hostels), Airbnb (for rentals). These platforms offer a wide selection of properties, user reviews, and secure payment options.App: Most of these platforms also have user-friendly mobile apps for convenient booking on the go.Hotel websites:Many hotels have their own websites where you can book directly. This can sometimes offer better deals or packages than third-party platforms. Look for the Book Now or Reservations section on the hotel's website.Contacting the accommodation directly:You can email or call the hotel or rental owner directly to inquire about availability and rates. This can be helpful if you have specific needs or want to negotiate a better price.\"]},\n",
       "  {'label': 'Tourist Attractions',\n",
       "   'patterns': ['What are the must-visit attractions in Egypt?',\n",
       "    'Can you recommend any guided tours or experiences?',\n",
       "    'Are there any lesser-known attractions or hidden gems worth exploring?'],\n",
       "   'responses': [\"Some must-visit attractions in Egypt include:Pyramids of Giza,Luxor's Temples & Tombs,Cruising the Nile,Aswan,Abu Simbel,Diving the Red Sea,Explore Historic Cairo,South Sinai's Beach Life,Saqqara,Egyptian Museum,White Desert,Alexandria,Abydos Temple,Siwa Oasis,St. Catherine's Monastery,Red Sea Beaches,Coptic Cairo,Wadi Al-Hitan,Temple of Hathor,Monastery of St. Anthony\",\n",
       "    \"Must-visit attractions in Egypt:Iconic Landmarks:Pyramids of Giza & Great Sphinx: Witness awe-inspiring ancient structures, including the Great Pyramid, a Wonder of the World. Marvel at the enigmatic Sphinx guarding them.Ancient Treasures:Valley of the Kings & Luxor Temple: Explore pharaohs' tombs and the majestic Luxor Temple dedicated to the god Amun.Egyptian Museum: See the treasures of Tutankhamun, mummies, and artifacts offering a glimpse into ancient Egyptian life.Natural Wonders:White Desert: Experience otherworldly rock formations sculpted by wind and sand, creating a lunar landscape.Red Sea Riviera: Dive into a vibrant underwater world teeming with colorful marine life in coral reefs.Cultural Gems:Siwa Oasis: Relax in natural hot springs, explore ancient ruins, and experience the unique Berber culture in this desert haven.Aswan & Philae Temple: Cruise the Nile, visit the charming town of Aswan, and see the relocated Philae Temple.Alexandria Library: Delve into the vast collection of books and exhibits at this modern revival of the ancient library.Al-Azhar Mosque: Immerse yourself in Islamic architecture and culture at this prestigious university and mosque.\"]},\n",
       "  {'label': 'Cultural Etiquette',\n",
       "   'patterns': ['What are some cultural norms and etiquette I should be aware of in Egypt?',\n",
       "    'Is there a specific dress code I should follow when visiting religious sites?',\n",
       "    'Are there any customs or traditions I should observe during my visit?'],\n",
       "   'responses': ['Here are some essential cultural norms and etiquette recommendations for visiting Egypt:Dress modestly: Cover knees and shoulders, particularly when visiting religious sites or rural areas. Women should avoid revealing clothing.Shoes removal: Remove shoes before entering homes, mosques, and some businesses.Table manners: Wait for the host or hostess to indicate seating; eat with the right hand only; take seconds if offered; leave a small amount of food uneaten to show appreciation.Gift giving: Bring chocolate, sweets, or pastries for the hostess; avoid flowers, which are reserved for weddings or funerals.Meeting people: Follow the lead of the individual regarding greetings; handshakes are standard for individuals of the same sex; greetings between men and women involve the woman extending her hand first.Use the right hand: Use the right hand for exchanging money, accepting gifts, and eating; avoid using the left hand for these actions, as it is associated with unclean tasks.Public displays of affection: Keep intimate behavior discreet; avoid holding hands or kissing in public spaces.Religious sensitivity: Respect religious sensitivities, especially during Ramadan; refrain from eating, drinking, or smoking in public during daylight hours.Tipping: Tip generously in restaurants, cafes, and taxis; round up bills to the nearest whole number.Punctuality: Be flexible with time expectations; Egyptians value relationships above adherence to strict timelines.',\n",
       "    'Here are some key points to remember:Dress modestly:Both men and women should dress modestly, especially outside major tourist areas. Opt for loose-fitting clothing that covers shoulders and knees.Women may receive unwanted attention if dressed revealingly. Consider scarves or shawls for additional coverage.Greetings and interactions:A handshake is the common greeting for both men and women. Wait for the woman to initiate a handshake if unsure.Use titles like Mr. or Madam when addressing someone unless invited to use first names.Public displays of affection are generally frowned upon.Religious sensitivity:Respect Ramadan, the month of fasting, by avoiding eating or drinking in public during the day.Dress modestly when visiting religious sites like mosques and churches.Be mindful of noise and refrain from disruptive behavior near places of worship.Gift-giving:Gifts are not expected but appreciated. If giving, present with two hands or the right hand.Small, thoughtful gifts like local crafts or sweets are suitable. Avoid alcohol or religious items.Photography:Always ask permission before photographing people, especially women and children.Be mindful in religious sites, where photography may be restricted.Bargaining:Bargaining is expected in many markets and bazaars. Be polite and respectful, and start with a lower offer than the asking price.Settle on a fair price without getting frustrated or overly aggressive.Tipping:Tipping is customary in restaurants, taxis, and for services. Leave around 10-15% for good service.Tipping at hotels is optional but appreciated.']},\n",
       "  {'label': 'Food and Dining',\n",
       "   'patterns': ['What are some traditional Egyptian dishes I should try?',\n",
       "    'Can you recommend any restaurants or street food vendors known for authentic cuisine?',\n",
       "    'Are there any dietary restrictions or considerations I should be aware of?'],\n",
       "   'responses': [\"During your stay in Egypt, be sure to sample some of the country's renowned culinary traditions. Here are some traditional dishes you might enjoy:Ful Medames,Koshari,Mulukhiyah ,Tamiya ,Shawarma,Kofta,Bastilla ,Basboosa,Umm Ali,Fetaer Meshaltet,Hamam Mahshi,Romy Cheese Fondue\",\n",
       "    \"Here are some traditional Egyptian dishes you shouldn't miss:Main Courses:Ful Medames: This hearty breakfast staple consists of mashed fava beans cooked with oil, lemon, and spices. Savory and filling, it's often served with pita bread, vegetables, and cheese.Koshari: A national favorite, this layered dish combines rice, macaroni, lentils, fried onions, chickpeas, and a spicy tomato sauce. It's a vegetarian's delight, full of textures and flavors.Kebab and Kofta: Skewered and grilled meats are popular throughout Egypt. Kofta are spiced ground meat patties, while kebabs use chunks of meat. Both are often served with pita bread, vegetables, and dips.Mulukhiya: This green soup features jute leaves cooked in a meat or chicken broth with garlic, spices, and sometimes cream. It's a hearty and flavorful dish, often served with rice.Mahshi: Various vegetables like peppers, zucchini, and eggplant are stuffed with rice, meat, and spices, creating flavorful and visually appealing dishes.Sides and Snacks:Ta'meya: These falafel-like fritters are made from mashed fava beans, herbs, and spices, offering a crispy and flavorful vegetarian option.Baba ghanoush: This smoky and creamy roasted eggplant dip is a crowd-pleaser, perfect for scooping with pita bread.Hummus: This popular chickpea dip is a staple in Egyptian cuisine, enjoyed with pita bread, vegetables, or even as a spread on sandwiches.Fatteh: Layers of pita bread, crispy fried onions, rice, meat, and a yogurt sauce create a rich and flavorful dish, often enjoyed during special occasions.Umm Ali: This warm bread pudding features flaky pastry, nuts, raisins, and milk, creating a sweet and comforting dessert.Drinks:Hibiscus tea: This vibrant red tea, known as Karkadeh, is a refreshing and slightly tart beverage, enjoyed hot or cold.Coffee: Egyptians love their coffee, strong and often sweetened with sugar. Try a traditional Turkish coffee for a truly authentic experience.Dates: These naturally sweet fruits are a popular snack and ingredient in desserts.\",\n",
       "    \"Must-Try Egyptian Eats:Main Courses:Ful Medames: Hearty fava bean breakfast with pita bread and veg.Koshari: National fave - layers of rice, pasta, lentils, onions, chickpeas in spicy sauce.Kebab & Kofta: Skewered & grilled meats - kofta (spiced patties) & kebab (chunks).Mulukhiya: Green soup with jute leaves, broth, spices, sometimes cream.Mahshi: Stuffed veggies (peppers, zucchini, etc.) with rice, meat, and spices.Sides & Snacks:Ta'meya: Falafel-like fava bean fritters.Baba ghanoush: Smoky roasted eggplant dip.Hummus: Classic chickpea dip.Fatteh: Layered pita bread, onions, rice, meat, yogurt sauce.Umm Ali: Warm bread pudding with pastry, nuts, raisins, milk.Drinks:Hibiscus tea (Karkadeh): Refreshing red tea, hot or cold.Coffee: Strong, often sweetened.Dates: Sweet fruit, popular snack and dessert ingredient.\"]},\n",
       "  {'label': 'Language and Communication',\n",
       "   'patterns': ['What languages are commonly spoken in Egypt?',\n",
       "    'Will I be able to communicate in English in most tourist areas?',\n",
       "    'Are there any useful phrases or words I should learn in Arabic?'],\n",
       "   'responses': [\"The primary languages spoken in Egypt are Arabic and Egyptian Arabic. Arabic is the official language and is used in most written documents and schools, while Egyptian Arabic is the most widely spoken language in daily conversations, accounting for about 68% of the population. Other languages spoken in Egypt include Sa'idi Arabic, Sudanese Arabic, Domari, Nobiin, and Bedawi. Educated Egyptians often speak English or French as secondary languages. Additionally, there are minor linguistic groups speaking languages like Greek, Armenian, and Italian.\",\n",
       "    \"The languages spoken in Egypt are:Official language:Modern Standard Arabic: This is the formal language used in education, government, and written communication. You will see it on signs, in newspapers, and hear it in official speeches.Spoken languages:Egyptian Arabic: This is the most widely spoken language in Egypt, used by everyday people in their daily lives. It has several regional dialects, with the Cairo dialect being the most widely understood.Other Arabic dialects: Smaller pockets of people speak other Arabic dialects, such as Sa'idi Arabic in Upper Egypt and Bedawi Arabic in the desert regions.Coptic: This is the liturgical language of the Coptic Orthodox Church, an important religious minority in Egypt.Minor languages: Smaller groups speak other languages like Greek, Armenian, Domari (spoken by Roma people), and Nobiin (spoken by Nubians).English and French:English and French are widely understood in tourist areas and by educated Egyptians, especially in major cities like Cairo and Alexandria.\",\n",
       "    \"In Egypt:Official: Modern Standard Arabic (formal, written)Spoken: Egyptian Arabic (widespread, dialects vary), plus smaller communities speak other Arabic dialects like Sa'idi and Bedawi.Religious: Coptic (Coptic Orthodox Church)Minor: Greek, Armenian, Domari, NobiinTourism: English & French understood in some areas\",\n",
       "    'Mainly Arabic and Egyptian Arabic, with some English and French speakers.']},\n",
       "  {'label': 'Weather and Climate',\n",
       "   'patterns': ['What is the weather in Egypt?',\n",
       "    'Are there any seasonal considerations I should be aware of?',\n",
       "    'What should I pack for my trip considering the climate?'],\n",
       "   'responses': ['Egypt generally enjoys a warm and dry climate, with distinct seasons:Winter (December–February): Temperatures range from 12°C (54°F) to 18°C (65°F), making it relatively cool compared to the rest of the year. This period sees minimal rainfall.Spring (March–May): Temperatures rise gradually, ranging from 15°C (60°F) to 27°C (81°F). There is also increased likelihood of dust storms due to winds known as the khamaseen.Summer (June–August): Hot and dry conditions prevail, with temperatures averaging 34°C (92°F) and occasionally rising over 40°C (104°F).Autumn (September–November): Temperatures decrease slowly, ranging from 17°C (63°F) to 28°C (82°F). This period brings slight rainfall, primarily in coastal cities such as Alexandria.',\n",
       "    \"Here's your text about Egypt's weather with a different style:Egypt: Sunshine seeker's paradiseEgypt boasts a year-round warm and dry climate, perfect for soaking up the sun and exploring ancient wonders. Let's dive into its distinct seasons:Winter chills (December-February): Think comfy sweaters and mild weather with highs around 18°C (65°F). Rain is rare, making it ideal for outdoor adventures.Spring awakening (March-May): Temperatures blossom, ranging from 15°C (60°F) to 27°C (81°F). Keep an eye out for occasional dust storms brought by the khamaseen winds.Scorching summer (June-August): Brace yourself for the heat! Expect sizzling temperatures averaging 34°C (92°F), sometimes spiking even higher. Seek shade and stay hydrated!Autumn's embrace (September-November): Temperatures take a gentle dip, ranging from 17°C (63°F) to 28°C (82°F). Coastal cities like Alexandria see a touch of rain, but overall, it's still sunny bliss.\",\n",
       "    'Winter: Cool (12°C – 18°C).Spring: Gradually warming (15°C – 27°C).Summer: Very hot (34°C+).utumn: Pleasant (17°C – 28°C)',\n",
       "    'When preparing for a trip to Egypt, consider the following suggestions based on the climate:Summer (June–August):Lightweight, loose-fitting clothing,Hats and sunglasses,Sunscreen,Swimsuits for coastal visits,Minimal footwear (flip-flops, sandals).Spring (March–May) and Fall (September–November):Light layers (thin sweaters, cotton long-sleeve tops),Comfortable shoes suitable for walking,Hat and sunscreen,Raincoat or umbrella (especially for coastal cities like Alexandria).Winter (December–February):Thin windproof jackets,Thermal undergarments (if needed),Gloves and hats (for cold nights),Comfortable shoes']},\n",
       "  {'label': 'Currency and Money Matters',\n",
       "   'patterns': ['What is the currency used in Egypt, and where can I exchange money?',\n",
       "    'Are credit cards widely accepted, or should I carry cash?',\n",
       "    'Are there any tipping customs I should be aware of?'],\n",
       "   'responses': ['In Egypt, the official currency is the Egyptian Pound (EGP). You may exchange foreign currency at airports, major hotels, licensed exchange offices, and authorized banks throughout the country. It is recommended to carry smaller bills and coins because larger notes may not always be accepted everywhere. Credit cards are increasingly being accepted in tourist destinations, but carrying cash remains essential for small transactions and street vendors. Keep in mind that exchanging large amounts of currency outside of reputable institutions could expose you to fraudulent activities. Always check the exchange rates beforehand to ensure fairness and accuracy.',\n",
       "    \"The official currency used in Egypt is the Egyptian Pound (EGP). It's abbreviated as £E, LE, or EGP in Latin script and ج.م\",\n",
       "    \"Egypt uses the Egyptian Pound (EGP). Here's your cheat sheet:Before you go:Check: Compare rates at banks, specialists, or online vendors.Consider: Ordering EGP online for pickup upon arrival.\"]},\n",
       "  {'label': 'thanks',\n",
       "   'patterns': ['Thanks',\n",
       "    'Thank you',\n",
       "    \"That's helpful\",\n",
       "    'Thanks for the help'],\n",
       "   'responses': ['Happy to help!',\n",
       "    'Any time!',\n",
       "    'My pleasure',\n",
       "    \"You're most welcome!\"]},\n",
       "  {'label': 'goodbye',\n",
       "   'patterns': ['Bye', 'See you later', 'Goodbye'],\n",
       "   'responses': ['See you later', 'Have a nice day', 'Bye! Come back again']}]}"
      ]
     },
     "execution_count": 46,
     "metadata": {},
     "output_type": "execute_result"
    }
   ],
   "source": [
    "\n",
    "data"
   ]
  },
  {
   "cell_type": "markdown",
   "metadata": {
    "id": "XjCHjq6vcdb_"
   },
   "source": [
    "Create training example , label and response "
   ]
  },
  {
   "cell_type": "code",
   "execution_count": 47,
   "metadata": {
    "id": "H6OaYr4ccYp2"
   },
   "outputs": [],
   "source": [
    "training_example=[]\n",
    "training_labels=[]\n",
    "response=[]\n",
    "\n",
    "for example in data['data']:\n",
    "    for pattern in example['patterns']:\n",
    "        training_example.append(pattern)\n",
    "        training_labels.append(example['label'])\n",
    "    response.append(example['responses'])\n"
   ]
  },
  {
   "cell_type": "code",
   "execution_count": 48,
   "metadata": {
    "colab": {
     "base_uri": "https://localhost:8080/"
    },
    "id": "JTpUxsAAd6HG",
    "outputId": "6cdce4d5-1742-4fff-da1b-901fc3286f91"
   },
   "outputs": [
    {
     "name": "stdout",
     "output_type": "stream",
     "text": [
      "training example \n",
      "['Hi', 'Hey', 'Is anyone there?', 'Hello', 'Hay', 'What are the visa requirements for visiting Egypt?', 'How do I obtain a tourist visa for Egypt?', 'Are there any entry restrictions or requirements due to COVID-19?', 'Is Egypt a safe destination for tourists?', 'Are there any specific safety precautions I should be aware of?', 'What areas should I avoid as a tourist?', 'What are the transportation options available within Egypt?', 'How do I get from the airport to my accommodation?', 'Are there any recommended modes of transportation for traveling between cities or attractions?', 'What are some recommended hotels or accommodations in cairo?', 'Are there any budget-friendly options available?', 'How can I book accommodation in advance?', 'What are the must-visit attractions in Egypt?', 'Can you recommend any guided tours or experiences?', 'Are there any lesser-known attractions or hidden gems worth exploring?', 'What are some cultural norms and etiquette I should be aware of in Egypt?', 'Is there a specific dress code I should follow when visiting religious sites?', 'Are there any customs or traditions I should observe during my visit?', 'What are some traditional Egyptian dishes I should try?', 'Can you recommend any restaurants or street food vendors known for authentic cuisine?', 'Are there any dietary restrictions or considerations I should be aware of?', 'What languages are commonly spoken in Egypt?', 'Will I be able to communicate in English in most tourist areas?', 'Are there any useful phrases or words I should learn in Arabic?', 'What is the weather in Egypt?', 'Are there any seasonal considerations I should be aware of?', 'What should I pack for my trip considering the climate?', 'What is the currency used in Egypt, and where can I exchange money?', 'Are credit cards widely accepted, or should I carry cash?', 'Are there any tipping customs I should be aware of?', 'Thanks', 'Thank you', \"That's helpful\", 'Thanks for the help', 'Bye', 'See you later', 'Goodbye']\n"
     ]
    }
   ],
   "source": [
    "print(\"training example \")\n",
    "print(training_example)"
   ]
  },
  {
   "cell_type": "code",
   "execution_count": 49,
   "metadata": {
    "colab": {
     "base_uri": "https://localhost:8080/"
    },
    "id": "KCyryJznelj7",
    "outputId": "55d95a5d-2174-41bb-d7df-2c352810e44d"
   },
   "outputs": [
    {
     "name": "stdout",
     "output_type": "stream",
     "text": [
      "training label \n",
      "['greeting', 'greeting', 'greeting', 'greeting', 'greeting', 'Visa and Entry Requirements', 'Visa and Entry Requirements', 'Visa and Entry Requirements', 'Safety and Security', 'Safety and Security', 'Safety and Security', 'Transportation', 'Transportation', 'Transportation', 'Accommodation', 'Accommodation', 'Accommodation', 'Tourist Attractions', 'Tourist Attractions', 'Tourist Attractions', 'Cultural Etiquette', 'Cultural Etiquette', 'Cultural Etiquette', 'Food and Dining', 'Food and Dining', 'Food and Dining', 'Language and Communication', 'Language and Communication', 'Language and Communication', 'Weather and Climate', 'Weather and Climate', 'Weather and Climate', 'Currency and Money Matters', 'Currency and Money Matters', 'Currency and Money Matters', 'thanks', 'thanks', 'thanks', 'thanks', 'goodbye', 'goodbye', 'goodbye']\n"
     ]
    }
   ],
   "source": [
    "print(\"training label \")\n",
    "print(training_labels)"
   ]
  },
  {
   "cell_type": "code",
   "execution_count": 50,
   "metadata": {
    "colab": {
     "base_uri": "https://localhost:8080/"
    },
    "id": "RRY8UTodeqmX",
    "outputId": "62df54ed-fc65-4479-80ff-d00d4e5d127d"
   },
   "outputs": [
    {
     "name": "stdout",
     "output_type": "stream",
     "text": [
      "Response\n",
      "[['Hello', 'Hi', 'Hi there', 'Hey'], ['On Arrival:$27 (up to 30 days) or $62 (up to 90 days),By Mail:$62 for single entry,In Person:$70 for single entry,E-Visa:$25 for a single-entry', 'As of the latest information available, there are no mandatory COVID-19 vaccination or testing requirements for entering Egypt. However, travelers should still monitor official sources for potential updates, especially since global pandemic policies evolve rapidly. It is essential to adhere to general hygiene measures and follow any advice provided by local authorities'], ['The Egyptian government has taken steps to improve security in recent years, and the overall threat level has decreased.', 'maintaining situational awareness and following local recommendations can greatly reduce the chances of experiencing issues while traveling in Egypt.', 'Some tips for staying safe in Egypt include:Monitor local news sources for potential dangers and adjust plans accordingly.Avoid crowded places, political demonstrations, and large gatherings.Keep valuables secure and avoid carrying excessive cash.Wear modest clothing, especially in religious sites and rural areas.Be cautious of scams and aggressive solicitations, especially in tourist areas.Hire reputable drivers and use established transport companies.Report crimes promptly to the Tourist Police or local police stations.Learn basic Arabic phrases to communicate effectively.Show respect for local customs, traditions, and religious beliefs.'], ['Travelers in Egypt have access to a variety of transportation options:Land transportation: Buses, microbuses, taxis, rental cars,Waterway transportation,Airway transportation,Railroad transportation,Metropolitan transportation', \"Egypt offers a diverse range of transportation options, catering to various budgets, travel styles, and distances. Here's a breakdown:Domestic Flights,Trains,Buses,Shared Taxis (Servees),Private Taxis,Local Transportation,\", 'Transportation options in Egypt:For long distances:Flights: Fast & convenient, best for major cities. Pre-book for deals.Trains: Affordable & comfortable, sleeper trains available. Consider class & women-only carriages.For shorter distances:Buses: Budget-friendly, air-conditioned options available. Comfort varies.Shared taxis: Flexible & affordable, negotiate fares. Can be crowded.Other options:Private taxis: Convenient & comfortable, negotiate fares & use reputable companies.Metro: Efficient & affordable in Cairo & Alexandria.Microbus: Cheap but crowded, serves specific routes in cities.Felucca: Scenic & leisurely sailboat cruises on the Nile.Choose based on:Distance: Flights/trains for long, buses/taxis for short.Budget: Buses & shared taxis cheapest, flights & private taxis most expensive.Comfort: Trains & private taxis more comfortable.Time: Flights fastest, buses & shared taxis slower.Experience: Trains, feluccas, camel rides offer unique experiences.'], ['I suggest the following highly regarded hotels in Cairo:The Nile Ritz-Carlton,Kempinski Nile Hotel Cairo,Steigenberger El Tahrir Plaza,Le Méridien Pyramids', ' Sure, here are some hotel options in Cairo, Egypt:The Square Boutique Hotel - 3-star hotel for EGP 1,731 per night.Cairo Paradise Hotel - 3-star hotel for EGP 564 per night.Horizon Shahrazad - 4-star hotel for EGP 2,258 per night.Flamenco Cairo Hotel - 4-star hotel for EGP 3,492 per night.Holy Sheet Hostel - Hostel for EGP 836 per night.These are just a few of the many great hotels in Cairo. When making your decision, consider your budget, desired location, and amenities.', 'Budget-friendly:Cairo Paradise Hotel,Mid-range:The Square Boutique Hotel,Horizon Shahrazad,Luxury:Flamenco Cairo Hotel,Unique:Holy Sheet Hostel', 'To book accommodation in advance, consider the following guidelines:High season and popular destinations: Book several months in advance to secure desirable lodgings.Festivals and special events: Book well in advance to guarantee availability.Last-minute deals: Look for promotional rates close to departure, but be prepared for limited choices.Luxury accommodations: Search for deals and book in advance to secure discounts.Short stays: Book in advance to maximize time spent exploring the destination.Longer stays: Utilize websites like Airbnb for extended stays, allowing greater flexibility in booking.', \"There are several ways to book accommodation in advance, here are a few popular options:Online booking platforms:Websites: Popular choices include Booking.com, Expedia, Agoda, Hostelworld (for hostels), Airbnb (for rentals). These platforms offer a wide selection of properties, user reviews, and secure payment options.App: Most of these platforms also have user-friendly mobile apps for convenient booking on the go.Hotel websites:Many hotels have their own websites where you can book directly. This can sometimes offer better deals or packages than third-party platforms. Look for the Book Now or Reservations section on the hotel's website.Contacting the accommodation directly:You can email or call the hotel or rental owner directly to inquire about availability and rates. This can be helpful if you have specific needs or want to negotiate a better price.\"], [\"Some must-visit attractions in Egypt include:Pyramids of Giza,Luxor's Temples & Tombs,Cruising the Nile,Aswan,Abu Simbel,Diving the Red Sea,Explore Historic Cairo,South Sinai's Beach Life,Saqqara,Egyptian Museum,White Desert,Alexandria,Abydos Temple,Siwa Oasis,St. Catherine's Monastery,Red Sea Beaches,Coptic Cairo,Wadi Al-Hitan,Temple of Hathor,Monastery of St. Anthony\", \"Must-visit attractions in Egypt:Iconic Landmarks:Pyramids of Giza & Great Sphinx: Witness awe-inspiring ancient structures, including the Great Pyramid, a Wonder of the World. Marvel at the enigmatic Sphinx guarding them.Ancient Treasures:Valley of the Kings & Luxor Temple: Explore pharaohs' tombs and the majestic Luxor Temple dedicated to the god Amun.Egyptian Museum: See the treasures of Tutankhamun, mummies, and artifacts offering a glimpse into ancient Egyptian life.Natural Wonders:White Desert: Experience otherworldly rock formations sculpted by wind and sand, creating a lunar landscape.Red Sea Riviera: Dive into a vibrant underwater world teeming with colorful marine life in coral reefs.Cultural Gems:Siwa Oasis: Relax in natural hot springs, explore ancient ruins, and experience the unique Berber culture in this desert haven.Aswan & Philae Temple: Cruise the Nile, visit the charming town of Aswan, and see the relocated Philae Temple.Alexandria Library: Delve into the vast collection of books and exhibits at this modern revival of the ancient library.Al-Azhar Mosque: Immerse yourself in Islamic architecture and culture at this prestigious university and mosque.\"], ['Here are some essential cultural norms and etiquette recommendations for visiting Egypt:Dress modestly: Cover knees and shoulders, particularly when visiting religious sites or rural areas. Women should avoid revealing clothing.Shoes removal: Remove shoes before entering homes, mosques, and some businesses.Table manners: Wait for the host or hostess to indicate seating; eat with the right hand only; take seconds if offered; leave a small amount of food uneaten to show appreciation.Gift giving: Bring chocolate, sweets, or pastries for the hostess; avoid flowers, which are reserved for weddings or funerals.Meeting people: Follow the lead of the individual regarding greetings; handshakes are standard for individuals of the same sex; greetings between men and women involve the woman extending her hand first.Use the right hand: Use the right hand for exchanging money, accepting gifts, and eating; avoid using the left hand for these actions, as it is associated with unclean tasks.Public displays of affection: Keep intimate behavior discreet; avoid holding hands or kissing in public spaces.Religious sensitivity: Respect religious sensitivities, especially during Ramadan; refrain from eating, drinking, or smoking in public during daylight hours.Tipping: Tip generously in restaurants, cafes, and taxis; round up bills to the nearest whole number.Punctuality: Be flexible with time expectations; Egyptians value relationships above adherence to strict timelines.', 'Here are some key points to remember:Dress modestly:Both men and women should dress modestly, especially outside major tourist areas. Opt for loose-fitting clothing that covers shoulders and knees.Women may receive unwanted attention if dressed revealingly. Consider scarves or shawls for additional coverage.Greetings and interactions:A handshake is the common greeting for both men and women. Wait for the woman to initiate a handshake if unsure.Use titles like Mr. or Madam when addressing someone unless invited to use first names.Public displays of affection are generally frowned upon.Religious sensitivity:Respect Ramadan, the month of fasting, by avoiding eating or drinking in public during the day.Dress modestly when visiting religious sites like mosques and churches.Be mindful of noise and refrain from disruptive behavior near places of worship.Gift-giving:Gifts are not expected but appreciated. If giving, present with two hands or the right hand.Small, thoughtful gifts like local crafts or sweets are suitable. Avoid alcohol or religious items.Photography:Always ask permission before photographing people, especially women and children.Be mindful in religious sites, where photography may be restricted.Bargaining:Bargaining is expected in many markets and bazaars. Be polite and respectful, and start with a lower offer than the asking price.Settle on a fair price without getting frustrated or overly aggressive.Tipping:Tipping is customary in restaurants, taxis, and for services. Leave around 10-15% for good service.Tipping at hotels is optional but appreciated.'], [\"During your stay in Egypt, be sure to sample some of the country's renowned culinary traditions. Here are some traditional dishes you might enjoy:Ful Medames,Koshari,Mulukhiyah ,Tamiya ,Shawarma,Kofta,Bastilla ,Basboosa,Umm Ali,Fetaer Meshaltet,Hamam Mahshi,Romy Cheese Fondue\", \"Here are some traditional Egyptian dishes you shouldn't miss:Main Courses:Ful Medames: This hearty breakfast staple consists of mashed fava beans cooked with oil, lemon, and spices. Savory and filling, it's often served with pita bread, vegetables, and cheese.Koshari: A national favorite, this layered dish combines rice, macaroni, lentils, fried onions, chickpeas, and a spicy tomato sauce. It's a vegetarian's delight, full of textures and flavors.Kebab and Kofta: Skewered and grilled meats are popular throughout Egypt. Kofta are spiced ground meat patties, while kebabs use chunks of meat. Both are often served with pita bread, vegetables, and dips.Mulukhiya: This green soup features jute leaves cooked in a meat or chicken broth with garlic, spices, and sometimes cream. It's a hearty and flavorful dish, often served with rice.Mahshi: Various vegetables like peppers, zucchini, and eggplant are stuffed with rice, meat, and spices, creating flavorful and visually appealing dishes.Sides and Snacks:Ta'meya: These falafel-like fritters are made from mashed fava beans, herbs, and spices, offering a crispy and flavorful vegetarian option.Baba ghanoush: This smoky and creamy roasted eggplant dip is a crowd-pleaser, perfect for scooping with pita bread.Hummus: This popular chickpea dip is a staple in Egyptian cuisine, enjoyed with pita bread, vegetables, or even as a spread on sandwiches.Fatteh: Layers of pita bread, crispy fried onions, rice, meat, and a yogurt sauce create a rich and flavorful dish, often enjoyed during special occasions.Umm Ali: This warm bread pudding features flaky pastry, nuts, raisins, and milk, creating a sweet and comforting dessert.Drinks:Hibiscus tea: This vibrant red tea, known as Karkadeh, is a refreshing and slightly tart beverage, enjoyed hot or cold.Coffee: Egyptians love their coffee, strong and often sweetened with sugar. Try a traditional Turkish coffee for a truly authentic experience.Dates: These naturally sweet fruits are a popular snack and ingredient in desserts.\", \"Must-Try Egyptian Eats:Main Courses:Ful Medames: Hearty fava bean breakfast with pita bread and veg.Koshari: National fave - layers of rice, pasta, lentils, onions, chickpeas in spicy sauce.Kebab & Kofta: Skewered & grilled meats - kofta (spiced patties) & kebab (chunks).Mulukhiya: Green soup with jute leaves, broth, spices, sometimes cream.Mahshi: Stuffed veggies (peppers, zucchini, etc.) with rice, meat, and spices.Sides & Snacks:Ta'meya: Falafel-like fava bean fritters.Baba ghanoush: Smoky roasted eggplant dip.Hummus: Classic chickpea dip.Fatteh: Layered pita bread, onions, rice, meat, yogurt sauce.Umm Ali: Warm bread pudding with pastry, nuts, raisins, milk.Drinks:Hibiscus tea (Karkadeh): Refreshing red tea, hot or cold.Coffee: Strong, often sweetened.Dates: Sweet fruit, popular snack and dessert ingredient.\"], [\"The primary languages spoken in Egypt are Arabic and Egyptian Arabic. Arabic is the official language and is used in most written documents and schools, while Egyptian Arabic is the most widely spoken language in daily conversations, accounting for about 68% of the population. Other languages spoken in Egypt include Sa'idi Arabic, Sudanese Arabic, Domari, Nobiin, and Bedawi. Educated Egyptians often speak English or French as secondary languages. Additionally, there are minor linguistic groups speaking languages like Greek, Armenian, and Italian.\", \"The languages spoken in Egypt are:Official language:Modern Standard Arabic: This is the formal language used in education, government, and written communication. You will see it on signs, in newspapers, and hear it in official speeches.Spoken languages:Egyptian Arabic: This is the most widely spoken language in Egypt, used by everyday people in their daily lives. It has several regional dialects, with the Cairo dialect being the most widely understood.Other Arabic dialects: Smaller pockets of people speak other Arabic dialects, such as Sa'idi Arabic in Upper Egypt and Bedawi Arabic in the desert regions.Coptic: This is the liturgical language of the Coptic Orthodox Church, an important religious minority in Egypt.Minor languages: Smaller groups speak other languages like Greek, Armenian, Domari (spoken by Roma people), and Nobiin (spoken by Nubians).English and French:English and French are widely understood in tourist areas and by educated Egyptians, especially in major cities like Cairo and Alexandria.\", \"In Egypt:Official: Modern Standard Arabic (formal, written)Spoken: Egyptian Arabic (widespread, dialects vary), plus smaller communities speak other Arabic dialects like Sa'idi and Bedawi.Religious: Coptic (Coptic Orthodox Church)Minor: Greek, Armenian, Domari, NobiinTourism: English & French understood in some areas\", 'Mainly Arabic and Egyptian Arabic, with some English and French speakers.'], ['Egypt generally enjoys a warm and dry climate, with distinct seasons:Winter (December–February): Temperatures range from 12°C (54°F) to 18°C (65°F), making it relatively cool compared to the rest of the year. This period sees minimal rainfall.Spring (March–May): Temperatures rise gradually, ranging from 15°C (60°F) to 27°C (81°F). There is also increased likelihood of dust storms due to winds known as the khamaseen.Summer (June–August): Hot and dry conditions prevail, with temperatures averaging 34°C (92°F) and occasionally rising over 40°C (104°F).Autumn (September–November): Temperatures decrease slowly, ranging from 17°C (63°F) to 28°C (82°F). This period brings slight rainfall, primarily in coastal cities such as Alexandria.', \"Here's your text about Egypt's weather with a different style:Egypt: Sunshine seeker's paradiseEgypt boasts a year-round warm and dry climate, perfect for soaking up the sun and exploring ancient wonders. Let's dive into its distinct seasons:Winter chills (December-February): Think comfy sweaters and mild weather with highs around 18°C (65°F). Rain is rare, making it ideal for outdoor adventures.Spring awakening (March-May): Temperatures blossom, ranging from 15°C (60°F) to 27°C (81°F). Keep an eye out for occasional dust storms brought by the khamaseen winds.Scorching summer (June-August): Brace yourself for the heat! Expect sizzling temperatures averaging 34°C (92°F), sometimes spiking even higher. Seek shade and stay hydrated!Autumn's embrace (September-November): Temperatures take a gentle dip, ranging from 17°C (63°F) to 28°C (82°F). Coastal cities like Alexandria see a touch of rain, but overall, it's still sunny bliss.\", 'Winter: Cool (12°C – 18°C).Spring: Gradually warming (15°C – 27°C).Summer: Very hot (34°C+).utumn: Pleasant (17°C – 28°C)', 'When preparing for a trip to Egypt, consider the following suggestions based on the climate:Summer (June–August):Lightweight, loose-fitting clothing,Hats and sunglasses,Sunscreen,Swimsuits for coastal visits,Minimal footwear (flip-flops, sandals).Spring (March–May) and Fall (September–November):Light layers (thin sweaters, cotton long-sleeve tops),Comfortable shoes suitable for walking,Hat and sunscreen,Raincoat or umbrella (especially for coastal cities like Alexandria).Winter (December–February):Thin windproof jackets,Thermal undergarments (if needed),Gloves and hats (for cold nights),Comfortable shoes'], ['In Egypt, the official currency is the Egyptian Pound (EGP). You may exchange foreign currency at airports, major hotels, licensed exchange offices, and authorized banks throughout the country. It is recommended to carry smaller bills and coins because larger notes may not always be accepted everywhere. Credit cards are increasingly being accepted in tourist destinations, but carrying cash remains essential for small transactions and street vendors. Keep in mind that exchanging large amounts of currency outside of reputable institutions could expose you to fraudulent activities. Always check the exchange rates beforehand to ensure fairness and accuracy.', \"The official currency used in Egypt is the Egyptian Pound (EGP). It's abbreviated as £E, LE, or EGP in Latin script and ج.م\", \"Egypt uses the Egyptian Pound (EGP). Here's your cheat sheet:Before you go:Check: Compare rates at banks, specialists, or online vendors.Consider: Ordering EGP online for pickup upon arrival.\"], ['Happy to help!', 'Any time!', 'My pleasure', \"You're most welcome!\"], ['See you later', 'Have a nice day', 'Bye! Come back again']]\n"
     ]
    }
   ],
   "source": [
    "print('Response')\n",
    "print(response)"
   ]
  },
  {
   "cell_type": "code",
   "execution_count": 51,
   "metadata": {
    "colab": {
     "base_uri": "https://localhost:8080/"
    },
    "id": "-6bML3Ive98F",
    "outputId": "717ed5c3-44af-4819-8357-0fcaebc44482"
   },
   "outputs": [
    {
     "data": {
      "text/plain": [
       "42"
      ]
     },
     "execution_count": 51,
     "metadata": {},
     "output_type": "execute_result"
    }
   ],
   "source": [
    "len(training_labels)"
   ]
  },
  {
   "cell_type": "code",
   "execution_count": 52,
   "metadata": {
    "colab": {
     "base_uri": "https://localhost:8080/"
    },
    "id": "hlifINfEfVoR",
    "outputId": "9a154bc5-3f5f-45ad-d9ca-d4d700a8cae3"
   },
   "outputs": [
    {
     "data": {
      "text/plain": [
       "13"
      ]
     },
     "execution_count": 52,
     "metadata": {},
     "output_type": "execute_result"
    }
   ],
   "source": [
    "len(set(training_labels))"
   ]
  },
  {
   "cell_type": "markdown",
   "metadata": {
    "id": "LdHfsxyyfqu0"
   },
   "source": [
    "Preprocessing"
   ]
  },
  {
   "cell_type": "code",
   "execution_count": 53,
   "metadata": {
    "colab": {
     "base_uri": "https://localhost:8080/"
    },
    "id": "oPdtwIZRg--U",
    "outputId": "1dab9739-19da-4a9b-f5d9-b71ac2d1aed5"
   },
   "outputs": [
    {
     "data": {
      "text/plain": [
       "['Hi',\n",
       " 'Hey',\n",
       " 'Is anyone there?',\n",
       " 'Hello',\n",
       " 'Hay',\n",
       " 'What are the visa requirements for visiting Egypt?',\n",
       " 'How do I obtain a tourist visa for Egypt?',\n",
       " 'Are there any entry restrictions or requirements due to COVID-19?',\n",
       " 'Is Egypt a safe destination for tourists?',\n",
       " 'Are there any specific safety precautions I should be aware of?',\n",
       " 'What areas should I avoid as a tourist?',\n",
       " 'What are the transportation options available within Egypt?',\n",
       " 'How do I get from the airport to my accommodation?',\n",
       " 'Are there any recommended modes of transportation for traveling between cities or attractions?',\n",
       " 'What are some recommended hotels or accommodations in cairo?',\n",
       " 'Are there any budget-friendly options available?',\n",
       " 'How can I book accommodation in advance?',\n",
       " 'What are the must-visit attractions in Egypt?',\n",
       " 'Can you recommend any guided tours or experiences?',\n",
       " 'Are there any lesser-known attractions or hidden gems worth exploring?',\n",
       " 'What are some cultural norms and etiquette I should be aware of in Egypt?',\n",
       " 'Is there a specific dress code I should follow when visiting religious sites?',\n",
       " 'Are there any customs or traditions I should observe during my visit?',\n",
       " 'What are some traditional Egyptian dishes I should try?',\n",
       " 'Can you recommend any restaurants or street food vendors known for authentic cuisine?',\n",
       " 'Are there any dietary restrictions or considerations I should be aware of?',\n",
       " 'What languages are commonly spoken in Egypt?',\n",
       " 'Will I be able to communicate in English in most tourist areas?',\n",
       " 'Are there any useful phrases or words I should learn in Arabic?',\n",
       " 'What is the weather in Egypt?',\n",
       " 'Are there any seasonal considerations I should be aware of?',\n",
       " 'What should I pack for my trip considering the climate?',\n",
       " 'What is the currency used in Egypt, and where can I exchange money?',\n",
       " 'Are credit cards widely accepted, or should I carry cash?',\n",
       " 'Are there any tipping customs I should be aware of?',\n",
       " 'Thanks',\n",
       " 'Thank you',\n",
       " \"That's helpful\",\n",
       " 'Thanks for the help',\n",
       " 'Bye',\n",
       " 'See you later',\n",
       " 'Goodbye']"
      ]
     },
     "execution_count": 53,
     "metadata": {},
     "output_type": "execute_result"
    }
   ],
   "source": [
    "training_example"
   ]
  },
  {
   "cell_type": "code",
   "execution_count": 54,
   "metadata": {
    "id": "jE3LGFTdfeA3"
   },
   "outputs": [],
   "source": [
    "def clean_text(sentences):\n",
    "    result=[]\n",
    "    for sentence in sentences:\n",
    "        #sentence=re.sub(r'\\W',' ',sentence)# pattern  # text \n",
    "        sentence=sentence.lower()\n",
    "        result.append(sentence)\n",
    "        \n",
    "    return result"
   ]
  },
  {
   "cell_type": "code",
   "execution_count": 55,
   "metadata": {
    "id": "uZSvuySwgYXe"
   },
   "outputs": [],
   "source": [
    "training_example=clean_text(training_example)"
   ]
  },
  {
   "cell_type": "markdown",
   "metadata": {
    "id": "Y7Z0dZXjjz_T"
   },
   "source": [
    "convert label values"
   ]
  },
  {
   "cell_type": "code",
   "execution_count": 56,
   "metadata": {
    "id": "GxxBf1fQixNb"
   },
   "outputs": [],
   "source": [
    "le=LabelEncoder()\n",
    "le.fit(training_labels)\n",
    "training_labels=le.fit_transform(training_labels)"
   ]
  },
  {
   "cell_type": "code",
   "execution_count": 57,
   "metadata": {
    "colab": {
     "base_uri": "https://localhost:8080/"
    },
    "id": "IoI0apTHkGo2",
    "outputId": "a34777d7-4ed1-493c-a661-af99ba7cd1fb"
   },
   "outputs": [
    {
     "data": {
      "text/plain": [
       "array([11, 11, 11, 11, 11,  8,  8,  8,  5,  5,  5,  7,  7,  7,  0,  0,  0,\n",
       "        6,  6,  6,  1,  1,  1,  3,  3,  3,  4,  4,  4,  9,  9,  9,  2,  2,\n",
       "        2, 12, 12, 12, 12, 10, 10, 10], dtype=int64)"
      ]
     },
     "execution_count": 57,
     "metadata": {},
     "output_type": "execute_result"
    }
   ],
   "source": [
    "training_labels"
   ]
  },
  {
   "cell_type": "code",
   "execution_count": 58,
   "metadata": {
    "colab": {
     "base_uri": "https://localhost:8080/"
    },
    "id": "mvhZCy9_qFc7",
    "outputId": "526f70f8-b253-4c7b-878d-86307c4534af"
   },
   "outputs": [
    {
     "data": {
      "text/plain": [
       "array([[0., 0., 0., 0., 0., 0., 0., 0., 0., 0., 0., 1., 0.],\n",
       "       [0., 0., 0., 0., 0., 0., 0., 0., 0., 0., 0., 1., 0.],\n",
       "       [0., 0., 0., 0., 0., 0., 0., 0., 0., 0., 0., 1., 0.],\n",
       "       [0., 0., 0., 0., 0., 0., 0., 0., 0., 0., 0., 1., 0.],\n",
       "       [0., 0., 0., 0., 0., 0., 0., 0., 0., 0., 0., 1., 0.],\n",
       "       [0., 0., 0., 0., 0., 0., 0., 0., 1., 0., 0., 0., 0.],\n",
       "       [0., 0., 0., 0., 0., 0., 0., 0., 1., 0., 0., 0., 0.],\n",
       "       [0., 0., 0., 0., 0., 0., 0., 0., 1., 0., 0., 0., 0.],\n",
       "       [0., 0., 0., 0., 0., 1., 0., 0., 0., 0., 0., 0., 0.],\n",
       "       [0., 0., 0., 0., 0., 1., 0., 0., 0., 0., 0., 0., 0.],\n",
       "       [0., 0., 0., 0., 0., 1., 0., 0., 0., 0., 0., 0., 0.],\n",
       "       [0., 0., 0., 0., 0., 0., 0., 1., 0., 0., 0., 0., 0.],\n",
       "       [0., 0., 0., 0., 0., 0., 0., 1., 0., 0., 0., 0., 0.],\n",
       "       [0., 0., 0., 0., 0., 0., 0., 1., 0., 0., 0., 0., 0.],\n",
       "       [1., 0., 0., 0., 0., 0., 0., 0., 0., 0., 0., 0., 0.],\n",
       "       [1., 0., 0., 0., 0., 0., 0., 0., 0., 0., 0., 0., 0.],\n",
       "       [1., 0., 0., 0., 0., 0., 0., 0., 0., 0., 0., 0., 0.],\n",
       "       [0., 0., 0., 0., 0., 0., 1., 0., 0., 0., 0., 0., 0.],\n",
       "       [0., 0., 0., 0., 0., 0., 1., 0., 0., 0., 0., 0., 0.],\n",
       "       [0., 0., 0., 0., 0., 0., 1., 0., 0., 0., 0., 0., 0.],\n",
       "       [0., 1., 0., 0., 0., 0., 0., 0., 0., 0., 0., 0., 0.],\n",
       "       [0., 1., 0., 0., 0., 0., 0., 0., 0., 0., 0., 0., 0.],\n",
       "       [0., 1., 0., 0., 0., 0., 0., 0., 0., 0., 0., 0., 0.],\n",
       "       [0., 0., 0., 1., 0., 0., 0., 0., 0., 0., 0., 0., 0.],\n",
       "       [0., 0., 0., 1., 0., 0., 0., 0., 0., 0., 0., 0., 0.],\n",
       "       [0., 0., 0., 1., 0., 0., 0., 0., 0., 0., 0., 0., 0.],\n",
       "       [0., 0., 0., 0., 1., 0., 0., 0., 0., 0., 0., 0., 0.],\n",
       "       [0., 0., 0., 0., 1., 0., 0., 0., 0., 0., 0., 0., 0.],\n",
       "       [0., 0., 0., 0., 1., 0., 0., 0., 0., 0., 0., 0., 0.],\n",
       "       [0., 0., 0., 0., 0., 0., 0., 0., 0., 1., 0., 0., 0.],\n",
       "       [0., 0., 0., 0., 0., 0., 0., 0., 0., 1., 0., 0., 0.],\n",
       "       [0., 0., 0., 0., 0., 0., 0., 0., 0., 1., 0., 0., 0.],\n",
       "       [0., 0., 1., 0., 0., 0., 0., 0., 0., 0., 0., 0., 0.],\n",
       "       [0., 0., 1., 0., 0., 0., 0., 0., 0., 0., 0., 0., 0.],\n",
       "       [0., 0., 1., 0., 0., 0., 0., 0., 0., 0., 0., 0., 0.],\n",
       "       [0., 0., 0., 0., 0., 0., 0., 0., 0., 0., 0., 0., 1.],\n",
       "       [0., 0., 0., 0., 0., 0., 0., 0., 0., 0., 0., 0., 1.],\n",
       "       [0., 0., 0., 0., 0., 0., 0., 0., 0., 0., 0., 0., 1.],\n",
       "       [0., 0., 0., 0., 0., 0., 0., 0., 0., 0., 0., 0., 1.],\n",
       "       [0., 0., 0., 0., 0., 0., 0., 0., 0., 0., 1., 0., 0.],\n",
       "       [0., 0., 0., 0., 0., 0., 0., 0., 0., 0., 1., 0., 0.],\n",
       "       [0., 0., 0., 0., 0., 0., 0., 0., 0., 0., 1., 0., 0.]],\n",
       "      dtype=float32)"
      ]
     },
     "execution_count": 58,
     "metadata": {},
     "output_type": "execute_result"
    }
   ],
   "source": [
    "training_labels=to_categorical(training_labels)\n",
    "training_labels"
   ]
  },
  {
   "cell_type": "markdown",
   "metadata": {
    "id": "ag5o05eJlujN"
   },
   "source": [
    "Convert words to vectors"
   ]
  },
  {
   "cell_type": "code",
   "execution_count": 59,
   "metadata": {},
   "outputs": [
    {
     "name": "stdout",
     "output_type": "stream",
     "text": [
      "[[16], [7], [5, 5, 21], [26], [24], [14, 3, 26, 11, 38, 26, 36, 37], [38, 42, 36, 12, 38, 25, 11, 26, 37], [3, 34, 39, 19, 42, 48, 38, 8, 6, 36], [5, 7, 38, 42, 6, 26, 44], [3, 34, 39, 18, 46, 3, 36, 4, 6, 11, 15], [14, 34, 4, 36, 2, 3, 38, 12], [14, 3, 26, 21, 4, 43, 30, 37], [38, 42, 36, 26, 35, 26, 41, 6, 33, 12], [3, 34, 39, 33, 17, 31, 21, 26, 48, 5, 20, 48, 46], [14, 3, 16, 33, 13, 48, 8, 25, 1], [3, 34, 39, 9, 4, 47], [38, 39, 36, 19, 22, 25, 3], [14, 3, 26, 2, 16, 25, 37], [39, 1, 36, 39, 45, 17, 48, 24], [3, 34, 39, 21, 16, 48, 20, 41, 9, 22], [14, 3, 16, 47, 49, 31, 46, 36, 4, 6, 11, 31, 25, 37], [5, 34, 38, 18, 42, 34, 36, 4, 33, 19, 36, 43, 15], [3, 34, 39, 44, 48, 30, 36, 4, 44, 34, 33, 1], [14, 3, 16, 33, 29, 40, 36, 4, 38], [39, 1, 36, 39, 28, 48, 14, 32, 27, 22, 26, 47, 14], [3, 34, 39, 7, 42, 48, 36, 36, 4, 6, 11, 15], [14, 19, 3, 42, 29, 25, 37], [33, 36, 6, 44, 6, 20, 25, 23, 25, 45, 25, 15], [3, 34, 39, 17, 41, 48, 32, 36, 4, 41, 25, 9], [14, 5, 26, 32, 25, 37], [3, 34, 39, 27, 36, 36, 4, 6, 11, 15], [14, 4, 36, 26, 26, 33, 38, 28, 26, 30], [14, 5, 26, 21, 27, 25, 33, 31, 28, 39, 36, 6, 43], [3, 13, 40, 4, 44, 48, 4, 36, 45, 16], [3, 34, 39, 17, 44, 36, 4, 6, 11, 15], [35], [9, 1], [22, 32], [35, 26, 26, 12], [48], [31, 1, 21], [12]]\n"
     ]
    }
   ],
   "source": [
    "from tensorflow.keras.preprocessing.text import one_hot \n",
    "sequnces=[one_hot(example,50,filters='') for example in training_example]\n",
    "print(sequnces)"
   ]
  },
  {
   "cell_type": "code",
   "execution_count": 60,
   "metadata": {
    "colab": {
     "base_uri": "https://localhost:8080/"
    },
    "id": "S80n4A1_kHwt",
    "outputId": "ca477485-05e5-45eb-89ed-242a1b1ad872"
   },
   "outputs": [
    {
     "name": "stdout",
     "output_type": "stream",
     "text": [
      "[[44], [45], [14, 46, 3], [47], [48], [6, 1, 10, 25, 26, 11, 27, 9], [19, 28, 2, 49, 16, 20, 25, 11, 9], [1, 3, 4, 50, 29, 7, 26, 51, 21, 52, 53], [14, 9, 16, 54, 55, 11, 56], [1, 3, 4, 30, 57, 58, 2, 5, 12, 15, 13], [6, 31, 5, 2, 59, 60, 16, 20], [6, 1, 10, 32, 33, 34, 61, 9], [19, 28, 2, 62, 63, 10, 64, 21, 22, 35], [1, 3, 4, 36, 65, 13, 32, 11, 66, 67, 68, 7, 23], [6, 1, 24, 36, 69, 7, 70, 8, 71], [1, 3, 4, 72, 73, 33, 34], [19, 17, 2, 74, 35, 8, 75], [6, 1, 10, 76, 37, 23, 8, 9], [17, 18, 38, 4, 77, 78, 7, 79], [1, 3, 4, 80, 39, 23, 7, 81, 82, 83, 84], [6, 1, 24, 85, 86, 40, 87, 2, 5, 12, 15, 13, 8, 9], [14, 3, 16, 30, 88, 89, 2, 5, 90, 91, 27, 92, 93], [1, 3, 4, 41, 7, 94, 2, 5, 95, 96, 22, 37], [6, 1, 24, 97, 98, 99, 2, 5], [17, 18, 38, 4, 7, 39, 11], [1, 3, 4, 29, 7, 42, 2, 5, 12, 15, 13], [6, 1, 8, 9], [2, 12, 21, 8, 8, 20, 31], [1, 3, 4, 7, 2, 5, 8], [6, 14, 10, 8, 9], [1, 3, 4, 42, 2, 5, 12, 15, 13], [6, 5, 2, 11, 22, 10], [6, 14, 10, 8, 9, 40, 17, 2], [1, 7, 5, 2], [1, 3, 4, 41, 2, 5, 12, 15, 13], [43], [18], [], [43, 11, 10], [], [18], []]\n"
     ]
    }
   ],
   "source": [
    "toknizer=Tokenizer(num_words=100)\n",
    "toknizer.fit_on_texts(training_example)\n",
    "sequnces=toknizer.texts_to_sequences(training_example)\n",
    "print(sequnces)"
   ]
  },
  {
   "cell_type": "code",
   "execution_count": 61,
   "metadata": {
    "colab": {
     "base_uri": "https://localhost:8080/"
    },
    "id": "NogQSSfzmBum",
    "outputId": "42b68e12-88de-4dfe-ab8f-51f56aba6d9d"
   },
   "outputs": [
    {
     "name": "stdout",
     "output_type": "stream",
     "text": [
      "[[ 0  0  0  0  0  0  0  0  0  0  0  0  0  0  0  0  0  0  0 44]\n",
      " [ 0  0  0  0  0  0  0  0  0  0  0  0  0  0  0  0  0  0  0 45]\n",
      " [ 0  0  0  0  0  0  0  0  0  0  0  0  0  0  0  0  0 14 46  3]\n",
      " [ 0  0  0  0  0  0  0  0  0  0  0  0  0  0  0  0  0  0  0 47]\n",
      " [ 0  0  0  0  0  0  0  0  0  0  0  0  0  0  0  0  0  0  0 48]\n",
      " [ 0  0  0  0  0  0  0  0  0  0  0  0  6  1 10 25 26 11 27  9]\n",
      " [ 0  0  0  0  0  0  0  0  0  0  0 19 28  2 49 16 20 25 11  9]\n",
      " [ 0  0  0  0  0  0  0  0  0  1  3  4 50 29  7 26 51 21 52 53]\n",
      " [ 0  0  0  0  0  0  0  0  0  0  0  0  0 14  9 16 54 55 11 56]\n",
      " [ 0  0  0  0  0  0  0  0  0  1  3  4 30 57 58  2  5 12 15 13]\n",
      " [ 0  0  0  0  0  0  0  0  0  0  0  0  6 31  5  2 59 60 16 20]\n",
      " [ 0  0  0  0  0  0  0  0  0  0  0  0  6  1 10 32 33 34 61  9]\n",
      " [ 0  0  0  0  0  0  0  0  0  0 19 28  2 62 63 10 64 21 22 35]\n",
      " [ 0  0  0  0  0  0  0  1  3  4 36 65 13 32 11 66 67 68  7 23]\n",
      " [ 0  0  0  0  0  0  0  0  0  0  0  6  1 24 36 69  7 70  8 71]\n",
      " [ 0  0  0  0  0  0  0  0  0  0  0  0  0  1  3  4 72 73 33 34]\n",
      " [ 0  0  0  0  0  0  0  0  0  0  0  0  0 19 17  2 74 35  8 75]\n",
      " [ 0  0  0  0  0  0  0  0  0  0  0  0  6  1 10 76 37 23  8  9]\n",
      " [ 0  0  0  0  0  0  0  0  0  0  0  0 17 18 38  4 77 78  7 79]\n",
      " [ 0  0  0  0  0  0  0  0  0  1  3  4 80 39 23  7 81 82 83 84]\n",
      " [ 0  0  0  0  0  0  6  1 24 85 86 40 87  2  5 12 15 13  8  9]\n",
      " [ 0  0  0  0  0  0  0 14  3 16 30 88 89  2  5 90 91 27 92 93]\n",
      " [ 0  0  0  0  0  0  0  0  1  3  4 41  7 94  2  5 95 96 22 37]\n",
      " [ 0  0  0  0  0  0  0  0  0  0  0  0  6  1 24 97 98 99  2  5]\n",
      " [ 0  0  0  0  0  0  0  0  0  0  0  0  0 17 18 38  4  7 39 11]\n",
      " [ 0  0  0  0  0  0  0  0  0  1  3  4 29  7 42  2  5 12 15 13]\n",
      " [ 0  0  0  0  0  0  0  0  0  0  0  0  0  0  0  0  6  1  8  9]\n",
      " [ 0  0  0  0  0  0  0  0  0  0  0  0  0  2 12 21  8  8 20 31]\n",
      " [ 0  0  0  0  0  0  0  0  0  0  0  0  0  1  3  4  7  2  5  8]\n",
      " [ 0  0  0  0  0  0  0  0  0  0  0  0  0  0  0  6 14 10  8  9]\n",
      " [ 0  0  0  0  0  0  0  0  0  0  0  1  3  4 42  2  5 12 15 13]\n",
      " [ 0  0  0  0  0  0  0  0  0  0  0  0  0  0  6  5  2 11 22 10]\n",
      " [ 0  0  0  0  0  0  0  0  0  0  0  0  6 14 10  8  9 40 17  2]\n",
      " [ 0  0  0  0  0  0  0  0  0  0  0  0  0  0  0  0  1  7  5  2]\n",
      " [ 0  0  0  0  0  0  0  0  0  0  0  1  3  4 41  2  5 12 15 13]\n",
      " [ 0  0  0  0  0  0  0  0  0  0  0  0  0  0  0  0  0  0  0 43]\n",
      " [ 0  0  0  0  0  0  0  0  0  0  0  0  0  0  0  0  0  0  0 18]\n",
      " [ 0  0  0  0  0  0  0  0  0  0  0  0  0  0  0  0  0  0  0  0]\n",
      " [ 0  0  0  0  0  0  0  0  0  0  0  0  0  0  0  0  0 43 11 10]\n",
      " [ 0  0  0  0  0  0  0  0  0  0  0  0  0  0  0  0  0  0  0  0]\n",
      " [ 0  0  0  0  0  0  0  0  0  0  0  0  0  0  0  0  0  0  0 18]\n",
      " [ 0  0  0  0  0  0  0  0  0  0  0  0  0  0  0  0  0  0  0  0]]\n"
     ]
    }
   ],
   "source": [
    "padded_sequence=pad_sequences(sequnces,truncating='post',maxlen=20)\n",
    "print(padded_sequence)"
   ]
  },
  {
   "cell_type": "code",
   "execution_count": 62,
   "metadata": {
    "colab": {
     "base_uri": "https://localhost:8080/"
    },
    "id": "yq-wIrrnmLrm",
    "outputId": "ad307708-b848-4913-a8e1-43ce0d46a7e0"
   },
   "outputs": [
    {
     "name": "stdout",
     "output_type": "stream",
     "text": [
      "Model: \"sequential_1\"\n",
      "_________________________________________________________________\n",
      " Layer (type)                Output Shape              Param #   \n",
      "=================================================================\n",
      " embedding_1 (Embedding)     (None, 20, 10)            1000      \n",
      "                                                                 \n",
      " global_average_pooling1d_1  (None, 10)                0         \n",
      "  (GlobalAveragePooling1D)                                       \n",
      "                                                                 \n",
      " dense_3 (Dense)             (None, 128)               1408      \n",
      "                                                                 \n",
      " dense_4 (Dense)             (None, 64)                8256      \n",
      "                                                                 \n",
      " dense_5 (Dense)             (None, 13)                845       \n",
      "                                                                 \n",
      "=================================================================\n",
      "Total params: 11509 (44.96 KB)\n",
      "Trainable params: 11509 (44.96 KB)\n",
      "Non-trainable params: 0 (0.00 Byte)\n",
      "_________________________________________________________________\n"
     ]
    }
   ],
   "source": [
    "from tensorflow.keras.models import Sequential\n",
    "from tensorflow.keras.layers import Dense ,LSTM,Embedding ,GlobalAveragePooling1D\n",
    "\n",
    "model=Sequential()\n",
    "model.add(Embedding(100,10,input_length=20))\n",
    "model.add(GlobalAveragePooling1D())\n",
    "model.add(Dense(128,activation='relu'))\n",
    "model.add(Dense(64,activation='relu'))\n",
    "model.add(Dense(13,activation='softmax'))\n",
    "\n",
    "\n",
    "model.compile(loss='categorical_crossentropy',optimizer='adam',metrics=['accuracy'])\n",
    "model.summary()"
   ]
  },
  {
   "cell_type": "code",
   "execution_count": 65,
   "metadata": {
    "colab": {
     "base_uri": "https://localhost:8080/"
    },
    "id": "Ilg4_fStqnCr",
    "outputId": "17136b75-0d7b-41f9-9332-d74032a275c5"
   },
   "outputs": [
    {
     "name": "stdout",
     "output_type": "stream",
     "text": [
      "Epoch 1/400\n",
      "2/2 [==============================] - 0s 6ms/step - loss: 0.0872 - accuracy: 0.9524\n",
      "Epoch 2/400\n",
      "2/2 [==============================] - 0s 5ms/step - loss: 0.0863 - accuracy: 0.9524\n",
      "Epoch 3/400\n",
      "2/2 [==============================] - 0s 6ms/step - loss: 0.0865 - accuracy: 0.9524\n",
      "Epoch 4/400\n",
      "2/2 [==============================] - 0s 0s/step - loss: 0.0859 - accuracy: 0.9524\n",
      "Epoch 5/400\n",
      "2/2 [==============================] - 0s 672us/step - loss: 0.0866 - accuracy: 0.9524\n",
      "Epoch 6/400\n",
      "2/2 [==============================] - 0s 17ms/step - loss: 0.0844 - accuracy: 0.9524\n",
      "Epoch 7/400\n",
      "2/2 [==============================] - 0s 0s/step - loss: 0.0843 - accuracy: 0.9524\n",
      "Epoch 8/400\n",
      "2/2 [==============================] - 0s 8ms/step - loss: 0.0845 - accuracy: 0.9524\n",
      "Epoch 9/400\n",
      "2/2 [==============================] - 0s 5ms/step - loss: 0.0842 - accuracy: 0.9524\n",
      "Epoch 10/400\n",
      "2/2 [==============================] - 0s 0s/step - loss: 0.0852 - accuracy: 0.9524\n",
      "Epoch 11/400\n",
      "2/2 [==============================] - 0s 0s/step - loss: 0.0861 - accuracy: 0.9524\n",
      "Epoch 12/400\n",
      "2/2 [==============================] - 0s 4ms/step - loss: 0.0874 - accuracy: 0.9524\n",
      "Epoch 13/400\n",
      "2/2 [==============================] - 0s 13ms/step - loss: 0.0843 - accuracy: 0.9524\n",
      "Epoch 14/400\n",
      "2/2 [==============================] - 0s 0s/step - loss: 0.0848 - accuracy: 0.9524\n",
      "Epoch 15/400\n",
      "2/2 [==============================] - 0s 0s/step - loss: 0.0842 - accuracy: 0.9524\n",
      "Epoch 16/400\n",
      "2/2 [==============================] - 0s 2ms/step - loss: 0.0853 - accuracy: 0.9524\n",
      "Epoch 17/400\n",
      "2/2 [==============================] - 0s 9ms/step - loss: 0.0871 - accuracy: 0.9524\n",
      "Epoch 18/400\n",
      "2/2 [==============================] - 0s 7ms/step - loss: 0.0879 - accuracy: 0.9524\n",
      "Epoch 19/400\n",
      "2/2 [==============================] - 0s 0s/step - loss: 0.0881 - accuracy: 0.9524\n",
      "Epoch 20/400\n",
      "2/2 [==============================] - 0s 18ms/step - loss: 0.0864 - accuracy: 0.9524\n",
      "Epoch 21/400\n",
      "2/2 [==============================] - 0s 0s/step - loss: 0.0864 - accuracy: 0.9524\n",
      "Epoch 22/400\n",
      "2/2 [==============================] - 0s 5ms/step - loss: 0.0849 - accuracy: 0.9524\n",
      "Epoch 23/400\n",
      "2/2 [==============================] - 0s 7ms/step - loss: 0.0840 - accuracy: 0.9524\n",
      "Epoch 24/400\n",
      "2/2 [==============================] - 0s 9ms/step - loss: 0.0840 - accuracy: 0.9524\n",
      "Epoch 25/400\n",
      "2/2 [==============================] - 0s 5ms/step - loss: 0.0843 - accuracy: 0.9524\n",
      "Epoch 26/400\n",
      "2/2 [==============================] - 0s 12ms/step - loss: 0.0844 - accuracy: 0.9524\n",
      "Epoch 27/400\n",
      "2/2 [==============================] - 0s 5ms/step - loss: 0.0855 - accuracy: 0.9524\n",
      "Epoch 28/400\n",
      "2/2 [==============================] - 0s 0s/step - loss: 0.0830 - accuracy: 0.9524\n",
      "Epoch 29/400\n",
      "2/2 [==============================] - 0s 5ms/step - loss: 0.0880 - accuracy: 0.9524\n",
      "Epoch 30/400\n",
      "2/2 [==============================] - 0s 12ms/step - loss: 0.0861 - accuracy: 0.9524\n",
      "Epoch 31/400\n",
      "2/2 [==============================] - 0s 0s/step - loss: 0.0882 - accuracy: 0.9524\n",
      "Epoch 32/400\n",
      "2/2 [==============================] - 0s 35ms/step - loss: 0.0842 - accuracy: 0.9524\n",
      "Epoch 33/400\n",
      "2/2 [==============================] - 0s 9ms/step - loss: 0.0843 - accuracy: 0.9524\n",
      "Epoch 34/400\n",
      "2/2 [==============================] - 0s 8ms/step - loss: 0.0858 - accuracy: 0.9524\n",
      "Epoch 35/400\n",
      "2/2 [==============================] - 0s 4ms/step - loss: 0.0845 - accuracy: 0.9524\n",
      "Epoch 36/400\n",
      "2/2 [==============================] - 0s 0s/step - loss: 0.0831 - accuracy: 0.9286\n",
      "Epoch 37/400\n",
      "2/2 [==============================] - 0s 0s/step - loss: 0.0845 - accuracy: 0.9524\n",
      "Epoch 38/400\n",
      "2/2 [==============================] - 0s 15ms/step - loss: 0.0873 - accuracy: 0.9524\n",
      "Epoch 39/400\n",
      "2/2 [==============================] - 0s 7ms/step - loss: 0.0897 - accuracy: 0.9524\n",
      "Epoch 40/400\n",
      "2/2 [==============================] - 0s 3ms/step - loss: 0.0929 - accuracy: 0.9524\n",
      "Epoch 41/400\n",
      "2/2 [==============================] - 0s 5ms/step - loss: 0.0857 - accuracy: 0.9524\n",
      "Epoch 42/400\n",
      "2/2 [==============================] - 0s 504us/step - loss: 0.0861 - accuracy: 0.9524\n",
      "Epoch 43/400\n",
      "2/2 [==============================] - 0s 6ms/step - loss: 0.0871 - accuracy: 0.9524\n",
      "Epoch 44/400\n",
      "2/2 [==============================] - 0s 0s/step - loss: 0.0847 - accuracy: 0.9524\n",
      "Epoch 45/400\n",
      "2/2 [==============================] - 0s 0s/step - loss: 0.0853 - accuracy: 0.9524\n",
      "Epoch 46/400\n",
      "2/2 [==============================] - 0s 5ms/step - loss: 0.0846 - accuracy: 0.9524\n",
      "Epoch 47/400\n",
      "2/2 [==============================] - 0s 11ms/step - loss: 0.0860 - accuracy: 0.9524\n",
      "Epoch 48/400\n",
      "2/2 [==============================] - 0s 4ms/step - loss: 0.0883 - accuracy: 0.9524\n",
      "Epoch 49/400\n",
      "2/2 [==============================] - 0s 5ms/step - loss: 0.0873 - accuracy: 0.9524\n",
      "Epoch 50/400\n",
      "2/2 [==============================] - 0s 9ms/step - loss: 0.0843 - accuracy: 0.9524\n",
      "Epoch 51/400\n",
      "2/2 [==============================] - 0s 0s/step - loss: 0.0848 - accuracy: 0.9524\n",
      "Epoch 52/400\n",
      "2/2 [==============================] - 0s 1ms/step - loss: 0.0856 - accuracy: 0.9524\n",
      "Epoch 53/400\n",
      "2/2 [==============================] - 0s 12ms/step - loss: 0.0840 - accuracy: 0.9524\n",
      "Epoch 54/400\n",
      "2/2 [==============================] - 0s 0s/step - loss: 0.0840 - accuracy: 0.9524\n",
      "Epoch 55/400\n",
      "2/2 [==============================] - 0s 6ms/step - loss: 0.0846 - accuracy: 0.9524\n",
      "Epoch 56/400\n",
      "2/2 [==============================] - 0s 10ms/step - loss: 0.0843 - accuracy: 0.9524\n",
      "Epoch 57/400\n",
      "2/2 [==============================] - 0s 4ms/step - loss: 0.0835 - accuracy: 0.9524\n",
      "Epoch 58/400\n",
      "2/2 [==============================] - 0s 2ms/step - loss: 0.0828 - accuracy: 0.9524\n",
      "Epoch 59/400\n",
      "2/2 [==============================] - 0s 7ms/step - loss: 0.0847 - accuracy: 0.9524\n",
      "Epoch 60/400\n",
      "2/2 [==============================] - 0s 595us/step - loss: 0.0870 - accuracy: 0.9524\n",
      "Epoch 61/400\n",
      "2/2 [==============================] - 0s 5ms/step - loss: 0.0882 - accuracy: 0.9524\n",
      "Epoch 62/400\n",
      "2/2 [==============================] - 0s 6ms/step - loss: 0.0885 - accuracy: 0.9524\n",
      "Epoch 63/400\n",
      "2/2 [==============================] - 0s 10ms/step - loss: 0.0861 - accuracy: 0.9524\n",
      "Epoch 64/400\n",
      "2/2 [==============================] - 0s 1ms/step - loss: 0.0862 - accuracy: 0.9524\n",
      "Epoch 65/400\n",
      "2/2 [==============================] - 0s 6ms/step - loss: 0.0839 - accuracy: 0.9524\n",
      "Epoch 66/400\n",
      "2/2 [==============================] - 0s 10ms/step - loss: 0.0819 - accuracy: 0.9524\n",
      "Epoch 67/400\n",
      "2/2 [==============================] - 0s 8ms/step - loss: 0.0893 - accuracy: 0.9524\n",
      "Epoch 68/400\n",
      "2/2 [==============================] - 0s 0s/step - loss: 0.0929 - accuracy: 0.9524\n",
      "Epoch 69/400\n",
      "2/2 [==============================] - 0s 9ms/step - loss: 0.0887 - accuracy: 0.9524\n",
      "Epoch 70/400\n",
      "2/2 [==============================] - 0s 12ms/step - loss: 0.0871 - accuracy: 0.9524\n",
      "Epoch 71/400\n",
      "2/2 [==============================] - 0s 0s/step - loss: 0.0835 - accuracy: 0.9524\n",
      "Epoch 72/400\n",
      "2/2 [==============================] - 0s 0s/step - loss: 0.0859 - accuracy: 0.9524\n",
      "Epoch 73/400\n",
      "2/2 [==============================] - 0s 9ms/step - loss: 0.0914 - accuracy: 0.9286\n",
      "Epoch 74/400\n",
      "2/2 [==============================] - 0s 12ms/step - loss: 0.0925 - accuracy: 0.9048\n",
      "Epoch 75/400\n",
      "2/2 [==============================] - 0s 0s/step - loss: 0.0871 - accuracy: 0.9524\n",
      "Epoch 76/400\n",
      "2/2 [==============================] - 0s 3ms/step - loss: 0.0872 - accuracy: 0.9524\n",
      "Epoch 77/400\n",
      "2/2 [==============================] - 0s 0s/step - loss: 0.0845 - accuracy: 0.9524\n",
      "Epoch 78/400\n",
      "2/2 [==============================] - 0s 0s/step - loss: 0.0883 - accuracy: 0.9524\n",
      "Epoch 79/400\n",
      "2/2 [==============================] - 0s 4ms/step - loss: 0.0836 - accuracy: 0.9524\n",
      "Epoch 80/400\n",
      "2/2 [==============================] - 0s 13ms/step - loss: 0.0850 - accuracy: 0.9524\n",
      "Epoch 81/400\n",
      "2/2 [==============================] - 0s 7ms/step - loss: 0.0870 - accuracy: 0.9524\n",
      "Epoch 82/400\n",
      "2/2 [==============================] - 0s 2ms/step - loss: 0.0877 - accuracy: 0.9524\n",
      "Epoch 83/400\n",
      "2/2 [==============================] - 0s 14ms/step - loss: 0.0876 - accuracy: 0.9524\n",
      "Epoch 84/400\n",
      "2/2 [==============================] - 0s 0s/step - loss: 0.0835 - accuracy: 0.9524\n",
      "Epoch 85/400\n",
      "2/2 [==============================] - 0s 19ms/step - loss: 0.0809 - accuracy: 0.9524\n",
      "Epoch 86/400\n",
      "2/2 [==============================] - 0s 12ms/step - loss: 0.0917 - accuracy: 0.9524\n",
      "Epoch 87/400\n",
      "2/2 [==============================] - 0s 0s/step - loss: 0.0952 - accuracy: 0.9524\n",
      "Epoch 88/400\n",
      "2/2 [==============================] - 0s 2ms/step - loss: 0.0866 - accuracy: 0.9524\n",
      "Epoch 89/400\n",
      "2/2 [==============================] - 0s 0s/step - loss: 0.0833 - accuracy: 0.9524\n",
      "Epoch 90/400\n",
      "2/2 [==============================] - 0s 6ms/step - loss: 0.0867 - accuracy: 0.9286\n",
      "Epoch 91/400\n",
      "2/2 [==============================] - 0s 10ms/step - loss: 0.0909 - accuracy: 0.9286\n",
      "Epoch 92/400\n",
      "2/2 [==============================] - 0s 13ms/step - loss: 0.0930 - accuracy: 0.9286\n",
      "Epoch 93/400\n",
      "2/2 [==============================] - 0s 0s/step - loss: 0.0910 - accuracy: 0.9286\n",
      "Epoch 94/400\n",
      "2/2 [==============================] - 0s 4ms/step - loss: 0.0870 - accuracy: 0.9524\n",
      "Epoch 95/400\n",
      "2/2 [==============================] - 0s 11ms/step - loss: 0.0820 - accuracy: 0.9524\n",
      "Epoch 96/400\n",
      "2/2 [==============================] - 0s 0s/step - loss: 0.0885 - accuracy: 0.9524\n",
      "Epoch 97/400\n",
      "2/2 [==============================] - 0s 3ms/step - loss: 0.0872 - accuracy: 0.9524\n",
      "Epoch 98/400\n",
      "2/2 [==============================] - 0s 5ms/step - loss: 0.0878 - accuracy: 0.9524\n",
      "Epoch 99/400\n",
      "2/2 [==============================] - 0s 5ms/step - loss: 0.0886 - accuracy: 0.9524\n",
      "Epoch 100/400\n",
      "2/2 [==============================] - 0s 2ms/step - loss: 0.0868 - accuracy: 0.9524\n",
      "Epoch 101/400\n",
      "2/2 [==============================] - 0s 17ms/step - loss: 0.0868 - accuracy: 0.9524\n",
      "Epoch 102/400\n",
      "2/2 [==============================] - 0s 0s/step - loss: 0.0863 - accuracy: 0.9524\n",
      "Epoch 103/400\n",
      "2/2 [==============================] - 0s 0s/step - loss: 0.0828 - accuracy: 0.9524\n",
      "Epoch 104/400\n",
      "2/2 [==============================] - 0s 16ms/step - loss: 0.0813 - accuracy: 0.9524\n",
      "Epoch 105/400\n",
      "2/2 [==============================] - 0s 0s/step - loss: 0.0846 - accuracy: 0.9524\n",
      "Epoch 106/400\n",
      "2/2 [==============================] - 0s 0s/step - loss: 0.0892 - accuracy: 0.9286\n",
      "Epoch 107/400\n",
      "2/2 [==============================] - 0s 17ms/step - loss: 0.0931 - accuracy: 0.9286\n",
      "Epoch 108/400\n",
      "2/2 [==============================] - 0s 8ms/step - loss: 0.0975 - accuracy: 0.9286\n",
      "Epoch 109/400\n",
      "2/2 [==============================] - 0s 4ms/step - loss: 0.0871 - accuracy: 0.9286\n",
      "Epoch 110/400\n",
      "2/2 [==============================] - 0s 5ms/step - loss: 0.0843 - accuracy: 0.9762\n",
      "Epoch 111/400\n",
      "2/2 [==============================] - 0s 12ms/step - loss: 0.0852 - accuracy: 0.9524\n",
      "Epoch 112/400\n",
      "2/2 [==============================] - 0s 0s/step - loss: 0.0910 - accuracy: 0.9524\n",
      "Epoch 113/400\n",
      "2/2 [==============================] - 0s 4ms/step - loss: 0.0926 - accuracy: 0.9524\n",
      "Epoch 114/400\n",
      "2/2 [==============================] - 0s 12ms/step - loss: 0.0910 - accuracy: 0.9524\n",
      "Epoch 115/400\n",
      "2/2 [==============================] - 0s 0s/step - loss: 0.0871 - accuracy: 0.9524\n",
      "Epoch 116/400\n",
      "2/2 [==============================] - 0s 4ms/step - loss: 0.0874 - accuracy: 0.9524\n",
      "Epoch 117/400\n",
      "2/2 [==============================] - 0s 0s/step - loss: 0.0837 - accuracy: 0.9524\n",
      "Epoch 118/400\n",
      "2/2 [==============================] - 0s 38ms/step - loss: 0.0840 - accuracy: 0.9524\n",
      "Epoch 119/400\n",
      "2/2 [==============================] - 0s 14ms/step - loss: 0.0834 - accuracy: 0.9524\n",
      "Epoch 120/400\n",
      "2/2 [==============================] - 0s 7ms/step - loss: 0.0850 - accuracy: 0.9524\n",
      "Epoch 121/400\n",
      "2/2 [==============================] - 0s 9ms/step - loss: 0.0831 - accuracy: 0.9524\n",
      "Epoch 122/400\n",
      "2/2 [==============================] - 0s 9ms/step - loss: 0.0828 - accuracy: 0.9524\n",
      "Epoch 123/400\n",
      "2/2 [==============================] - 0s 6ms/step - loss: 0.0847 - accuracy: 0.9524\n",
      "Epoch 124/400\n",
      "2/2 [==============================] - 0s 9ms/step - loss: 0.0904 - accuracy: 0.9286\n",
      "Epoch 125/400\n",
      "2/2 [==============================] - 0s 2ms/step - loss: 0.0906 - accuracy: 0.9286\n",
      "Epoch 126/400\n",
      "2/2 [==============================] - 0s 6ms/step - loss: 0.0889 - accuracy: 0.9524\n",
      "Epoch 127/400\n",
      "2/2 [==============================] - 0s 9ms/step - loss: 0.0816 - accuracy: 0.9524\n",
      "Epoch 128/400\n",
      "2/2 [==============================] - 0s 0s/step - loss: 0.0839 - accuracy: 0.9524\n",
      "Epoch 129/400\n",
      "2/2 [==============================] - 0s 795us/step - loss: 0.0901 - accuracy: 0.9524\n",
      "Epoch 130/400\n",
      "2/2 [==============================] - 0s 15ms/step - loss: 0.0915 - accuracy: 0.9524\n",
      "Epoch 131/400\n",
      "2/2 [==============================] - 0s 7ms/step - loss: 0.0882 - accuracy: 0.9524\n",
      "Epoch 132/400\n",
      "2/2 [==============================] - 0s 5ms/step - loss: 0.0886 - accuracy: 0.9524\n",
      "Epoch 133/400\n",
      "2/2 [==============================] - 0s 11ms/step - loss: 0.0854 - accuracy: 0.9524\n",
      "Epoch 134/400\n",
      "2/2 [==============================] - 0s 4ms/step - loss: 0.0855 - accuracy: 0.9524\n",
      "Epoch 135/400\n",
      "2/2 [==============================] - 0s 6ms/step - loss: 0.0866 - accuracy: 0.9524\n",
      "Epoch 136/400\n",
      "2/2 [==============================] - 0s 9ms/step - loss: 0.0835 - accuracy: 0.9524\n",
      "Epoch 137/400\n",
      "2/2 [==============================] - 0s 0s/step - loss: 0.0824 - accuracy: 0.9524\n",
      "Epoch 138/400\n",
      "2/2 [==============================] - 0s 2ms/step - loss: 0.0853 - accuracy: 0.9524\n",
      "Epoch 139/400\n",
      "2/2 [==============================] - 0s 14ms/step - loss: 0.0844 - accuracy: 0.9524\n",
      "Epoch 140/400\n",
      "2/2 [==============================] - 0s 5ms/step - loss: 0.0852 - accuracy: 0.9524\n",
      "Epoch 141/400\n",
      "2/2 [==============================] - 0s 3ms/step - loss: 0.0830 - accuracy: 0.9524\n",
      "Epoch 142/400\n",
      "2/2 [==============================] - 0s 12ms/step - loss: 0.0842 - accuracy: 0.9524\n",
      "Epoch 143/400\n",
      "2/2 [==============================] - 0s 0s/step - loss: 0.0832 - accuracy: 0.9524\n",
      "Epoch 144/400\n",
      "2/2 [==============================] - 0s 6ms/step - loss: 0.0882 - accuracy: 0.9524\n",
      "Epoch 145/400\n",
      "2/2 [==============================] - 0s 7ms/step - loss: 0.0839 - accuracy: 0.9524\n",
      "Epoch 146/400\n",
      "2/2 [==============================] - 0s 3ms/step - loss: 0.0800 - accuracy: 0.9762\n",
      "Epoch 147/400\n",
      "2/2 [==============================] - 0s 4ms/step - loss: 0.0846 - accuracy: 0.9524\n",
      "Epoch 148/400\n",
      "2/2 [==============================] - 0s 11ms/step - loss: 0.0952 - accuracy: 0.9524\n",
      "Epoch 149/400\n",
      "2/2 [==============================] - 0s 4ms/step - loss: 0.0969 - accuracy: 0.9524\n",
      "Epoch 150/400\n",
      "2/2 [==============================] - 0s 2ms/step - loss: 0.0892 - accuracy: 0.9524\n",
      "Epoch 151/400\n",
      "2/2 [==============================] - 0s 12ms/step - loss: 0.0897 - accuracy: 0.9286\n",
      "Epoch 152/400\n",
      "2/2 [==============================] - 0s 0s/step - loss: 0.0852 - accuracy: 0.9524\n",
      "Epoch 153/400\n",
      "2/2 [==============================] - 0s 7ms/step - loss: 0.0861 - accuracy: 0.9524\n",
      "Epoch 154/400\n",
      "2/2 [==============================] - 0s 8ms/step - loss: 0.0846 - accuracy: 0.9524\n",
      "Epoch 155/400\n",
      "2/2 [==============================] - 0s 0s/step - loss: 0.0843 - accuracy: 0.9524\n",
      "Epoch 156/400\n",
      "2/2 [==============================] - 0s 6ms/step - loss: 0.0843 - accuracy: 0.9524\n",
      "Epoch 157/400\n",
      "2/2 [==============================] - 0s 9ms/step - loss: 0.0832 - accuracy: 0.9524\n",
      "Epoch 158/400\n",
      "2/2 [==============================] - 0s 8ms/step - loss: 0.0816 - accuracy: 0.9524\n",
      "Epoch 159/400\n",
      "2/2 [==============================] - 0s 0s/step - loss: 0.0836 - accuracy: 0.9524\n",
      "Epoch 160/400\n",
      "2/2 [==============================] - 0s 5ms/step - loss: 0.0843 - accuracy: 0.9524\n",
      "Epoch 161/400\n",
      "2/2 [==============================] - 0s 6ms/step - loss: 0.0845 - accuracy: 0.9524\n",
      "Epoch 162/400\n",
      "2/2 [==============================] - 0s 7ms/step - loss: 0.0834 - accuracy: 0.9524\n",
      "Epoch 163/400\n",
      "2/2 [==============================] - 0s 5ms/step - loss: 0.0831 - accuracy: 0.9524\n",
      "Epoch 164/400\n",
      "2/2 [==============================] - 0s 1ms/step - loss: 0.0825 - accuracy: 0.9524\n",
      "Epoch 165/400\n",
      "2/2 [==============================] - 0s 14ms/step - loss: 0.0821 - accuracy: 0.9524\n",
      "Epoch 166/400\n",
      "2/2 [==============================] - 0s 10ms/step - loss: 0.0847 - accuracy: 0.9524\n",
      "Epoch 167/400\n",
      "2/2 [==============================] - 0s 0s/step - loss: 0.0849 - accuracy: 0.9524\n",
      "Epoch 168/400\n",
      "2/2 [==============================] - 0s 16ms/step - loss: 0.0822 - accuracy: 0.9524\n",
      "Epoch 169/400\n",
      "2/2 [==============================] - 0s 0s/step - loss: 0.0828 - accuracy: 0.9524\n",
      "Epoch 170/400\n",
      "2/2 [==============================] - 0s 0s/step - loss: 0.0822 - accuracy: 0.9524\n",
      "Epoch 171/400\n",
      "2/2 [==============================] - 0s 16ms/step - loss: 0.0822 - accuracy: 0.9524\n",
      "Epoch 172/400\n",
      "2/2 [==============================] - 0s 0s/step - loss: 0.0840 - accuracy: 0.9524\n",
      "Epoch 173/400\n",
      "2/2 [==============================] - 0s 1ms/step - loss: 0.0831 - accuracy: 0.9286\n",
      "Epoch 174/400\n",
      "2/2 [==============================] - 0s 14ms/step - loss: 0.0820 - accuracy: 0.9524\n",
      "Epoch 175/400\n",
      "2/2 [==============================] - 0s 0s/step - loss: 0.0822 - accuracy: 0.9524\n",
      "Epoch 176/400\n",
      "2/2 [==============================] - 0s 3ms/step - loss: 0.0831 - accuracy: 0.9524\n",
      "Epoch 177/400\n",
      "2/2 [==============================] - 0s 13ms/step - loss: 0.0822 - accuracy: 0.9524\n",
      "Epoch 178/400\n",
      "2/2 [==============================] - 0s 557us/step - loss: 0.0845 - accuracy: 0.9524\n",
      "Epoch 179/400\n",
      "2/2 [==============================] - 0s 4ms/step - loss: 0.0822 - accuracy: 0.9524\n",
      "Epoch 180/400\n",
      "2/2 [==============================] - 0s 0s/step - loss: 0.0809 - accuracy: 0.9762\n",
      "Epoch 181/400\n",
      "2/2 [==============================] - 0s 0s/step - loss: 0.0814 - accuracy: 0.9524\n",
      "Epoch 182/400\n",
      "2/2 [==============================] - 0s 6ms/step - loss: 0.0897 - accuracy: 0.9286\n",
      "Epoch 183/400\n",
      "2/2 [==============================] - 0s 18ms/step - loss: 0.0931 - accuracy: 0.9286\n",
      "Epoch 184/400\n",
      "2/2 [==============================] - 0s 12ms/step - loss: 0.0923 - accuracy: 0.9286\n",
      "Epoch 185/400\n",
      "2/2 [==============================] - 0s 0s/step - loss: 0.0912 - accuracy: 0.9286\n",
      "Epoch 186/400\n",
      "2/2 [==============================] - 0s 6ms/step - loss: 0.0897 - accuracy: 0.9286\n",
      "Epoch 187/400\n",
      "2/2 [==============================] - 0s 6ms/step - loss: 0.0820 - accuracy: 0.9524\n",
      "Epoch 188/400\n",
      "2/2 [==============================] - 0s 0s/step - loss: 0.0858 - accuracy: 0.9524\n",
      "Epoch 189/400\n",
      "2/2 [==============================] - 0s 808us/step - loss: 0.0896 - accuracy: 0.9524\n",
      "Epoch 190/400\n",
      "2/2 [==============================] - 0s 9ms/step - loss: 0.0894 - accuracy: 0.9524\n",
      "Epoch 191/400\n",
      "2/2 [==============================] - 0s 6ms/step - loss: 0.0870 - accuracy: 0.9524\n",
      "Epoch 192/400\n",
      "2/2 [==============================] - 0s 0s/step - loss: 0.0844 - accuracy: 0.9524\n",
      "Epoch 193/400\n",
      "2/2 [==============================] - 0s 5ms/step - loss: 0.0823 - accuracy: 0.9524\n",
      "Epoch 194/400\n",
      "2/2 [==============================] - 0s 11ms/step - loss: 0.0817 - accuracy: 0.9524\n",
      "Epoch 195/400\n",
      "2/2 [==============================] - 0s 0s/step - loss: 0.0834 - accuracy: 0.9524\n",
      "Epoch 196/400\n",
      "2/2 [==============================] - 0s 5ms/step - loss: 0.0824 - accuracy: 0.9524\n",
      "Epoch 197/400\n",
      "2/2 [==============================] - 0s 10ms/step - loss: 0.0819 - accuracy: 0.9524\n",
      "Epoch 198/400\n",
      "2/2 [==============================] - 0s 4ms/step - loss: 0.0823 - accuracy: 0.9524\n",
      "Epoch 199/400\n",
      "2/2 [==============================] - 0s 6ms/step - loss: 0.0829 - accuracy: 0.9524\n",
      "Epoch 200/400\n",
      "2/2 [==============================] - 0s 5ms/step - loss: 0.0843 - accuracy: 0.9524\n",
      "Epoch 201/400\n",
      "2/2 [==============================] - 0s 4ms/step - loss: 0.0880 - accuracy: 0.9524\n",
      "Epoch 202/400\n",
      "2/2 [==============================] - 0s 6ms/step - loss: 0.0900 - accuracy: 0.9524\n",
      "Epoch 203/400\n",
      "2/2 [==============================] - 0s 10ms/step - loss: 0.0893 - accuracy: 0.9524\n",
      "Epoch 204/400\n",
      "2/2 [==============================] - 0s 2ms/step - loss: 0.0886 - accuracy: 0.9524\n",
      "Epoch 205/400\n",
      "2/2 [==============================] - 0s 15ms/step - loss: 0.0836 - accuracy: 0.9524\n",
      "Epoch 206/400\n",
      "2/2 [==============================] - 0s 9ms/step - loss: 0.0815 - accuracy: 0.9524\n",
      "Epoch 207/400\n",
      "2/2 [==============================] - 0s 0s/step - loss: 0.0836 - accuracy: 0.9524\n",
      "Epoch 208/400\n",
      "2/2 [==============================] - 0s 7ms/step - loss: 0.0836 - accuracy: 0.9524\n",
      "Epoch 209/400\n",
      "2/2 [==============================] - 0s 4ms/step - loss: 0.0847 - accuracy: 0.9524\n",
      "Epoch 210/400\n",
      "2/2 [==============================] - 0s 5ms/step - loss: 0.0848 - accuracy: 0.9524\n",
      "Epoch 211/400\n",
      "2/2 [==============================] - 0s 7ms/step - loss: 0.0805 - accuracy: 0.9524\n",
      "Epoch 212/400\n",
      "2/2 [==============================] - 0s 10ms/step - loss: 0.0874 - accuracy: 0.9524\n",
      "Epoch 213/400\n",
      "2/2 [==============================] - 0s 0s/step - loss: 0.0866 - accuracy: 0.9524\n",
      "Epoch 214/400\n",
      "2/2 [==============================] - 0s 7ms/step - loss: 0.0863 - accuracy: 0.9524\n",
      "Epoch 215/400\n",
      "2/2 [==============================] - 0s 10ms/step - loss: 0.0829 - accuracy: 0.9524\n",
      "Epoch 216/400\n",
      "2/2 [==============================] - 0s 0s/step - loss: 0.0859 - accuracy: 0.9286\n",
      "Epoch 217/400\n",
      "2/2 [==============================] - 0s 6ms/step - loss: 0.0828 - accuracy: 0.9524\n",
      "Epoch 218/400\n",
      "2/2 [==============================] - 0s 12ms/step - loss: 0.0827 - accuracy: 0.9524\n",
      "Epoch 219/400\n",
      "2/2 [==============================] - 0s 0s/step - loss: 0.0824 - accuracy: 0.9524\n",
      "Epoch 220/400\n",
      "2/2 [==============================] - 0s 5ms/step - loss: 0.0818 - accuracy: 0.9524\n",
      "Epoch 221/400\n",
      "2/2 [==============================] - 0s 10ms/step - loss: 0.0817 - accuracy: 0.9524\n",
      "Epoch 222/400\n",
      "2/2 [==============================] - 0s 2ms/step - loss: 0.0824 - accuracy: 0.9524\n",
      "Epoch 223/400\n",
      "2/2 [==============================] - 0s 16ms/step - loss: 0.0823 - accuracy: 0.9524\n",
      "Epoch 224/400\n",
      "2/2 [==============================] - 0s 9ms/step - loss: 0.0863 - accuracy: 0.9524\n",
      "Epoch 225/400\n",
      "2/2 [==============================] - 0s 4ms/step - loss: 0.0920 - accuracy: 0.9524\n",
      "Epoch 226/400\n",
      "2/2 [==============================] - 0s 5ms/step - loss: 0.0956 - accuracy: 0.9524\n",
      "Epoch 227/400\n",
      "2/2 [==============================] - 0s 10ms/step - loss: 0.0958 - accuracy: 0.9524\n",
      "Epoch 228/400\n",
      "2/2 [==============================] - 0s 1ms/step - loss: 0.0938 - accuracy: 0.9524\n",
      "Epoch 229/400\n",
      "2/2 [==============================] - 0s 5ms/step - loss: 0.0920 - accuracy: 0.9524\n",
      "Epoch 230/400\n",
      "2/2 [==============================] - 0s 11ms/step - loss: 0.0848 - accuracy: 0.9524\n",
      "Epoch 231/400\n",
      "2/2 [==============================] - 0s 0s/step - loss: 0.0825 - accuracy: 0.9524\n",
      "Epoch 232/400\n",
      "2/2 [==============================] - 0s 7ms/step - loss: 0.0843 - accuracy: 0.9524\n",
      "Epoch 233/400\n",
      "2/2 [==============================] - 0s 15ms/step - loss: 0.0871 - accuracy: 0.9286\n",
      "Epoch 234/400\n",
      "2/2 [==============================] - 0s 7ms/step - loss: 0.0881 - accuracy: 0.9286\n",
      "Epoch 235/400\n",
      "2/2 [==============================] - 0s 0s/step - loss: 0.0837 - accuracy: 0.9524\n",
      "Epoch 236/400\n",
      "2/2 [==============================] - 0s 7ms/step - loss: 0.0829 - accuracy: 0.9762\n",
      "Epoch 237/400\n",
      "2/2 [==============================] - 0s 3ms/step - loss: 0.0847 - accuracy: 0.9524\n",
      "Epoch 238/400\n",
      "2/2 [==============================] - 0s 0s/step - loss: 0.0843 - accuracy: 0.9524\n",
      "Epoch 239/400\n",
      "2/2 [==============================] - 0s 6ms/step - loss: 0.0840 - accuracy: 0.9524\n",
      "Epoch 240/400\n",
      "2/2 [==============================] - 0s 7ms/step - loss: 0.0823 - accuracy: 0.9524\n",
      "Epoch 241/400\n",
      "2/2 [==============================] - 0s 10ms/step - loss: 0.0809 - accuracy: 0.9524\n",
      "Epoch 242/400\n",
      "2/2 [==============================] - 0s 6ms/step - loss: 0.0830 - accuracy: 0.9524\n",
      "Epoch 243/400\n",
      "2/2 [==============================] - 0s 11ms/step - loss: 0.0879 - accuracy: 0.9524\n",
      "Epoch 244/400\n",
      "2/2 [==============================] - 0s 5ms/step - loss: 0.0826 - accuracy: 0.9524\n",
      "Epoch 245/400\n",
      "2/2 [==============================] - 0s 0s/step - loss: 0.0814 - accuracy: 0.9524\n",
      "Epoch 246/400\n",
      "2/2 [==============================] - 0s 5ms/step - loss: 0.0824 - accuracy: 0.9524\n",
      "Epoch 247/400\n",
      "2/2 [==============================] - 0s 11ms/step - loss: 0.0874 - accuracy: 0.9524\n",
      "Epoch 248/400\n",
      "2/2 [==============================] - 0s 0s/step - loss: 0.0926 - accuracy: 0.9524\n",
      "Epoch 249/400\n",
      "2/2 [==============================] - 0s 2ms/step - loss: 0.0975 - accuracy: 0.9524\n",
      "Epoch 250/400\n",
      "2/2 [==============================] - 0s 6ms/step - loss: 0.0954 - accuracy: 0.9524\n",
      "Epoch 251/400\n",
      "2/2 [==============================] - 0s 0s/step - loss: 0.0900 - accuracy: 0.9524\n",
      "Epoch 252/400\n",
      "2/2 [==============================] - 0s 0s/step - loss: 0.0829 - accuracy: 0.9524\n",
      "Epoch 253/400\n",
      "2/2 [==============================] - 0s 16ms/step - loss: 0.0802 - accuracy: 0.9524\n",
      "Epoch 254/400\n",
      "2/2 [==============================] - 0s 0s/step - loss: 0.0823 - accuracy: 0.9524\n",
      "Epoch 255/400\n",
      "2/2 [==============================] - 0s 5ms/step - loss: 0.0900 - accuracy: 0.9286\n",
      "Epoch 256/400\n",
      "2/2 [==============================] - 0s 4ms/step - loss: 0.0974 - accuracy: 0.9286\n",
      "Epoch 257/400\n",
      "2/2 [==============================] - 0s 0s/step - loss: 0.0985 - accuracy: 0.9286\n",
      "Epoch 258/400\n",
      "2/2 [==============================] - 0s 935us/step - loss: 0.0887 - accuracy: 0.9524\n",
      "Epoch 259/400\n",
      "2/2 [==============================] - 0s 6ms/step - loss: 0.0789 - accuracy: 0.9762\n",
      "Epoch 260/400\n",
      "2/2 [==============================] - 0s 0s/step - loss: 0.0903 - accuracy: 0.9524\n",
      "Epoch 261/400\n",
      "2/2 [==============================] - 0s 0s/step - loss: 0.0932 - accuracy: 0.9524\n",
      "Epoch 262/400\n",
      "2/2 [==============================] - 0s 17ms/step - loss: 0.0919 - accuracy: 0.9524\n",
      "Epoch 263/400\n",
      "2/2 [==============================] - 0s 0s/step - loss: 0.0846 - accuracy: 0.9524\n",
      "Epoch 264/400\n",
      "2/2 [==============================] - 0s 0s/step - loss: 0.0843 - accuracy: 0.9524\n",
      "Epoch 265/400\n",
      "2/2 [==============================] - 0s 8ms/step - loss: 0.0822 - accuracy: 0.9524\n",
      "Epoch 266/400\n",
      "2/2 [==============================] - 0s 0s/step - loss: 0.0847 - accuracy: 0.9524\n",
      "Epoch 267/400\n",
      "2/2 [==============================] - 0s 0s/step - loss: 0.0898 - accuracy: 0.9286\n",
      "Epoch 268/400\n",
      "2/2 [==============================] - 0s 4ms/step - loss: 0.0896 - accuracy: 0.9286\n",
      "Epoch 269/400\n",
      "2/2 [==============================] - 0s 0s/step - loss: 0.0843 - accuracy: 0.9524\n",
      "Epoch 270/400\n",
      "2/2 [==============================] - 0s 0s/step - loss: 0.0819 - accuracy: 0.9524\n",
      "Epoch 271/400\n",
      "2/2 [==============================] - 0s 17ms/step - loss: 0.0863 - accuracy: 0.9524\n",
      "Epoch 272/400\n",
      "2/2 [==============================] - 0s 0s/step - loss: 0.0851 - accuracy: 0.9524\n",
      "Epoch 273/400\n",
      "2/2 [==============================] - 0s 0s/step - loss: 0.0848 - accuracy: 0.9524\n",
      "Epoch 274/400\n",
      "2/2 [==============================] - 0s 5ms/step - loss: 0.0849 - accuracy: 0.9524\n",
      "Epoch 275/400\n",
      "2/2 [==============================] - 0s 0s/step - loss: 0.0845 - accuracy: 0.9524\n",
      "Epoch 276/400\n",
      "2/2 [==============================] - 0s 0s/step - loss: 0.0812 - accuracy: 0.9524\n",
      "Epoch 277/400\n",
      "2/2 [==============================] - 0s 16ms/step - loss: 0.0810 - accuracy: 0.9762\n",
      "Epoch 278/400\n",
      "2/2 [==============================] - 0s 0s/step - loss: 0.0819 - accuracy: 0.9524\n",
      "Epoch 279/400\n",
      "2/2 [==============================] - 0s 0s/step - loss: 0.0853 - accuracy: 0.9524\n",
      "Epoch 280/400\n",
      "2/2 [==============================] - 0s 16ms/step - loss: 0.0926 - accuracy: 0.9286\n",
      "Epoch 281/400\n",
      "2/2 [==============================] - 0s 0s/step - loss: 0.0901 - accuracy: 0.9286\n",
      "Epoch 282/400\n",
      "2/2 [==============================] - 0s 1ms/step - loss: 0.0824 - accuracy: 0.9524\n",
      "Epoch 283/400\n",
      "2/2 [==============================] - 0s 11ms/step - loss: 0.0849 - accuracy: 0.9524\n",
      "Epoch 284/400\n",
      "2/2 [==============================] - 0s 20ms/step - loss: 0.0824 - accuracy: 0.9524\n",
      "Epoch 285/400\n",
      "2/2 [==============================] - 0s 4ms/step - loss: 0.0814 - accuracy: 0.9524\n",
      "Epoch 286/400\n",
      "2/2 [==============================] - 0s 2ms/step - loss: 0.0812 - accuracy: 0.9524\n",
      "Epoch 287/400\n",
      "2/2 [==============================] - 0s 18ms/step - loss: 0.0811 - accuracy: 0.9524\n",
      "Epoch 288/400\n",
      "2/2 [==============================] - 0s 7ms/step - loss: 0.0825 - accuracy: 0.9524\n",
      "Epoch 289/400\n",
      "2/2 [==============================] - 0s 531us/step - loss: 0.0826 - accuracy: 0.9524\n",
      "Epoch 290/400\n",
      "2/2 [==============================] - 0s 4ms/step - loss: 0.0840 - accuracy: 0.9524\n",
      "Epoch 291/400\n",
      "2/2 [==============================] - 0s 5ms/step - loss: 0.0815 - accuracy: 0.9524\n",
      "Epoch 292/400\n",
      "2/2 [==============================] - 0s 9ms/step - loss: 0.0814 - accuracy: 0.9524\n",
      "Epoch 293/400\n",
      "2/2 [==============================] - 0s 3ms/step - loss: 0.0850 - accuracy: 0.9524\n",
      "Epoch 294/400\n",
      "2/2 [==============================] - 0s 5ms/step - loss: 0.0828 - accuracy: 0.9524\n",
      "Epoch 295/400\n",
      "2/2 [==============================] - 0s 0s/step - loss: 0.0829 - accuracy: 0.9524\n",
      "Epoch 296/400\n",
      "2/2 [==============================] - 0s 3ms/step - loss: 0.0820 - accuracy: 0.9524\n",
      "Epoch 297/400\n",
      "2/2 [==============================] - 0s 10ms/step - loss: 0.0817 - accuracy: 0.9524\n",
      "Epoch 298/400\n",
      "2/2 [==============================] - 0s 6ms/step - loss: 0.0819 - accuracy: 0.9524\n",
      "Epoch 299/400\n",
      "2/2 [==============================] - 0s 5ms/step - loss: 0.0827 - accuracy: 0.9524\n",
      "Epoch 300/400\n",
      "2/2 [==============================] - 0s 3ms/step - loss: 0.0833 - accuracy: 0.9524\n",
      "Epoch 301/400\n",
      "2/2 [==============================] - 0s 13ms/step - loss: 0.0818 - accuracy: 0.9524\n",
      "Epoch 302/400\n",
      "2/2 [==============================] - 0s 0s/step - loss: 0.0823 - accuracy: 0.9524\n",
      "Epoch 303/400\n",
      "2/2 [==============================] - 0s 6ms/step - loss: 0.0820 - accuracy: 0.9524\n",
      "Epoch 304/400\n",
      "2/2 [==============================] - 0s 9ms/step - loss: 0.0817 - accuracy: 0.9524\n",
      "Epoch 305/400\n",
      "2/2 [==============================] - 0s 4ms/step - loss: 0.0810 - accuracy: 0.9524\n",
      "Epoch 306/400\n",
      "2/2 [==============================] - 0s 5ms/step - loss: 0.0860 - accuracy: 0.9524\n",
      "Epoch 307/400\n",
      "2/2 [==============================] - 0s 3ms/step - loss: 0.0824 - accuracy: 0.9524\n",
      "Epoch 308/400\n",
      "2/2 [==============================] - 0s 5ms/step - loss: 0.0813 - accuracy: 0.9524\n",
      "Epoch 309/400\n",
      "2/2 [==============================] - 0s 12ms/step - loss: 0.0819 - accuracy: 0.9524\n",
      "Epoch 310/400\n",
      "2/2 [==============================] - 0s 0s/step - loss: 0.0821 - accuracy: 0.9524\n",
      "Epoch 311/400\n",
      "2/2 [==============================] - 0s 3ms/step - loss: 0.0826 - accuracy: 0.9524\n",
      "Epoch 312/400\n",
      "2/2 [==============================] - 0s 12ms/step - loss: 0.0830 - accuracy: 0.9524\n",
      "Epoch 313/400\n",
      "2/2 [==============================] - 0s 0s/step - loss: 0.0822 - accuracy: 0.9524\n",
      "Epoch 314/400\n",
      "2/2 [==============================] - 0s 6ms/step - loss: 0.0841 - accuracy: 0.9524\n",
      "Epoch 315/400\n",
      "2/2 [==============================] - 0s 11ms/step - loss: 0.0801 - accuracy: 0.9524\n",
      "Epoch 316/400\n",
      "2/2 [==============================] - 0s 5ms/step - loss: 0.0777 - accuracy: 0.9524\n",
      "Epoch 317/400\n",
      "2/2 [==============================] - 0s 3ms/step - loss: 0.0903 - accuracy: 0.9524\n",
      "Epoch 318/400\n",
      "2/2 [==============================] - 0s 8ms/step - loss: 0.0969 - accuracy: 0.9524\n",
      "Epoch 319/400\n",
      "2/2 [==============================] - 0s 9ms/step - loss: 0.0954 - accuracy: 0.9524\n",
      "Epoch 320/400\n",
      "2/2 [==============================] - 0s 0s/step - loss: 0.0871 - accuracy: 0.9524\n",
      "Epoch 321/400\n",
      "2/2 [==============================] - 0s 17ms/step - loss: 0.0845 - accuracy: 0.9524\n",
      "Epoch 322/400\n",
      "2/2 [==============================] - 0s 7ms/step - loss: 0.0799 - accuracy: 0.9524\n",
      "Epoch 323/400\n",
      "2/2 [==============================] - 0s 2ms/step - loss: 0.0880 - accuracy: 0.9524\n",
      "Epoch 324/400\n",
      "2/2 [==============================] - 0s 6ms/step - loss: 0.0837 - accuracy: 0.9524\n",
      "Epoch 325/400\n",
      "2/2 [==============================] - 0s 8ms/step - loss: 0.0853 - accuracy: 0.9524\n",
      "Epoch 326/400\n",
      "2/2 [==============================] - 0s 0s/step - loss: 0.0810 - accuracy: 0.9524\n",
      "Epoch 327/400\n",
      "2/2 [==============================] - 0s 5ms/step - loss: 0.0805 - accuracy: 0.9524\n",
      "Epoch 328/400\n",
      "2/2 [==============================] - 0s 11ms/step - loss: 0.0809 - accuracy: 0.9524\n",
      "Epoch 329/400\n",
      "2/2 [==============================] - 0s 16ms/step - loss: 0.0826 - accuracy: 0.9524\n",
      "Epoch 330/400\n",
      "2/2 [==============================] - 0s 11ms/step - loss: 0.0867 - accuracy: 0.9524\n",
      "Epoch 331/400\n",
      "2/2 [==============================] - 0s 0s/step - loss: 0.0943 - accuracy: 0.9524\n",
      "Epoch 332/400\n",
      "2/2 [==============================] - 0s 5ms/step - loss: 0.0809 - accuracy: 0.9524\n",
      "Epoch 333/400\n",
      "2/2 [==============================] - 0s 11ms/step - loss: 0.0766 - accuracy: 0.9524\n",
      "Epoch 334/400\n",
      "2/2 [==============================] - 0s 8ms/step - loss: 0.0923 - accuracy: 0.9286\n",
      "Epoch 335/400\n",
      "2/2 [==============================] - 0s 5ms/step - loss: 0.1142 - accuracy: 0.9286\n",
      "Epoch 336/400\n",
      "2/2 [==============================] - 0s 0s/step - loss: 0.1261 - accuracy: 0.9286\n",
      "Epoch 337/400\n",
      "2/2 [==============================] - 0s 16ms/step - loss: 0.1179 - accuracy: 0.9286\n",
      "Epoch 338/400\n",
      "2/2 [==============================] - 0s 0s/step - loss: 0.1034 - accuracy: 0.9048\n",
      "Epoch 339/400\n",
      "2/2 [==============================] - 0s 6ms/step - loss: 0.0824 - accuracy: 0.9524\n",
      "Epoch 340/400\n",
      "2/2 [==============================] - 0s 13ms/step - loss: 0.0794 - accuracy: 0.9524\n",
      "Epoch 341/400\n",
      "2/2 [==============================] - 0s 0s/step - loss: 0.0827 - accuracy: 0.9524\n",
      "Epoch 342/400\n",
      "2/2 [==============================] - 0s 0s/step - loss: 0.0905 - accuracy: 0.9524\n",
      "Epoch 343/400\n",
      "2/2 [==============================] - 0s 18ms/step - loss: 0.0909 - accuracy: 0.9524\n",
      "Epoch 344/400\n",
      "2/2 [==============================] - 0s 11ms/step - loss: 0.0888 - accuracy: 0.9524\n",
      "Epoch 345/400\n",
      "2/2 [==============================] - 0s 515us/step - loss: 0.0840 - accuracy: 0.9524\n",
      "Epoch 346/400\n",
      "2/2 [==============================] - 0s 15ms/step - loss: 0.0838 - accuracy: 0.9524\n",
      "Epoch 347/400\n",
      "2/2 [==============================] - 0s 0s/step - loss: 0.0815 - accuracy: 0.9524\n",
      "Epoch 348/400\n",
      "2/2 [==============================] - 0s 7ms/step - loss: 0.0842 - accuracy: 0.9524\n",
      "Epoch 349/400\n",
      "2/2 [==============================] - 0s 12ms/step - loss: 0.0868 - accuracy: 0.9524\n",
      "Epoch 350/400\n",
      "2/2 [==============================] - 0s 0s/step - loss: 0.0840 - accuracy: 0.9524\n",
      "Epoch 351/400\n",
      "2/2 [==============================] - 0s 0s/step - loss: 0.0854 - accuracy: 0.9524\n",
      "Epoch 352/400\n",
      "2/2 [==============================] - 0s 17ms/step - loss: 0.0810 - accuracy: 0.9524\n",
      "Epoch 353/400\n",
      "2/2 [==============================] - 0s 12ms/step - loss: 0.0812 - accuracy: 0.9524\n",
      "Epoch 354/400\n",
      "2/2 [==============================] - 0s 0s/step - loss: 0.0816 - accuracy: 0.9524\n",
      "Epoch 355/400\n",
      "2/2 [==============================] - 0s 18ms/step - loss: 0.0817 - accuracy: 0.9524\n",
      "Epoch 356/400\n",
      "2/2 [==============================] - 0s 0s/step - loss: 0.0825 - accuracy: 0.9524\n",
      "Epoch 357/400\n",
      "2/2 [==============================] - 0s 6ms/step - loss: 0.0813 - accuracy: 0.9524\n",
      "Epoch 358/400\n",
      "2/2 [==============================] - 0s 12ms/step - loss: 0.0819 - accuracy: 0.9524\n",
      "Epoch 359/400\n",
      "2/2 [==============================] - 0s 3ms/step - loss: 0.0814 - accuracy: 0.9524\n",
      "Epoch 360/400\n",
      "2/2 [==============================] - 0s 2ms/step - loss: 0.0826 - accuracy: 0.9524\n",
      "Epoch 361/400\n",
      "2/2 [==============================] - 0s 13ms/step - loss: 0.0808 - accuracy: 0.9524\n",
      "Epoch 362/400\n",
      "2/2 [==============================] - 0s 22ms/step - loss: 0.0815 - accuracy: 0.9524\n",
      "Epoch 363/400\n",
      "2/2 [==============================] - 0s 7ms/step - loss: 0.0834 - accuracy: 0.9524\n",
      "Epoch 364/400\n",
      "2/2 [==============================] - 0s 6ms/step - loss: 0.0873 - accuracy: 0.9286\n",
      "Epoch 365/400\n",
      "2/2 [==============================] - 0s 0s/step - loss: 0.0885 - accuracy: 0.9286\n",
      "Epoch 366/400\n",
      "2/2 [==============================] - 0s 5ms/step - loss: 0.0853 - accuracy: 0.9524\n",
      "Epoch 367/400\n",
      "2/2 [==============================] - 0s 6ms/step - loss: 0.0813 - accuracy: 0.9524\n",
      "Epoch 368/400\n",
      "2/2 [==============================] - 0s 0s/step - loss: 0.0808 - accuracy: 0.9524\n",
      "Epoch 369/400\n",
      "2/2 [==============================] - 0s 5ms/step - loss: 0.0822 - accuracy: 0.9524\n",
      "Epoch 370/400\n",
      "2/2 [==============================] - 0s 6ms/step - loss: 0.0928 - accuracy: 0.9524\n",
      "Epoch 371/400\n",
      "2/2 [==============================] - 0s 5ms/step - loss: 0.0929 - accuracy: 0.9524\n",
      "Epoch 372/400\n",
      "2/2 [==============================] - 0s 5ms/step - loss: 0.0889 - accuracy: 0.9524\n",
      "Epoch 373/400\n",
      "2/2 [==============================] - 0s 12ms/step - loss: 0.0838 - accuracy: 0.9524\n",
      "Epoch 374/400\n",
      "2/2 [==============================] - 0s 0s/step - loss: 0.0777 - accuracy: 0.9524\n",
      "Epoch 375/400\n",
      "2/2 [==============================] - 0s 3ms/step - loss: 0.0896 - accuracy: 0.9524\n",
      "Epoch 376/400\n",
      "2/2 [==============================] - 0s 6ms/step - loss: 0.0922 - accuracy: 0.9286\n",
      "Epoch 377/400\n",
      "2/2 [==============================] - 0s 0s/step - loss: 0.0848 - accuracy: 0.9524\n",
      "Epoch 378/400\n",
      "2/2 [==============================] - 0s 4ms/step - loss: 0.0791 - accuracy: 0.9524\n",
      "Epoch 379/400\n",
      "2/2 [==============================] - 0s 9ms/step - loss: 0.0861 - accuracy: 0.9524\n",
      "Epoch 380/400\n",
      "2/2 [==============================] - 0s 4ms/step - loss: 0.0872 - accuracy: 0.9524\n",
      "Epoch 381/400\n",
      "2/2 [==============================] - 0s 0s/step - loss: 0.0895 - accuracy: 0.9524\n",
      "Epoch 382/400\n",
      "2/2 [==============================] - 0s 6ms/step - loss: 0.0847 - accuracy: 0.9524\n",
      "Epoch 383/400\n",
      "2/2 [==============================] - 0s 9ms/step - loss: 0.0807 - accuracy: 0.9524\n",
      "Epoch 384/400\n",
      "2/2 [==============================] - 0s 0s/step - loss: 0.0880 - accuracy: 0.9524\n",
      "Epoch 385/400\n",
      "2/2 [==============================] - 0s 7ms/step - loss: 0.0842 - accuracy: 0.9524\n",
      "Epoch 386/400\n",
      "2/2 [==============================] - 0s 0s/step - loss: 0.0799 - accuracy: 0.9524\n",
      "Epoch 387/400\n",
      "2/2 [==============================] - 0s 3ms/step - loss: 0.0809 - accuracy: 0.9524\n",
      "Epoch 388/400\n",
      "2/2 [==============================] - 0s 13ms/step - loss: 0.0838 - accuracy: 0.9524\n",
      "Epoch 389/400\n",
      "2/2 [==============================] - 0s 7ms/step - loss: 0.0906 - accuracy: 0.9524\n",
      "Epoch 390/400\n",
      "2/2 [==============================] - 0s 3ms/step - loss: 0.0979 - accuracy: 0.9524\n",
      "Epoch 391/400\n",
      "2/2 [==============================] - 0s 12ms/step - loss: 0.1049 - accuracy: 0.9524\n",
      "Epoch 392/400\n",
      "2/2 [==============================] - 0s 5ms/step - loss: 0.1002 - accuracy: 0.9524\n",
      "Epoch 393/400\n",
      "2/2 [==============================] - 0s 6ms/step - loss: 0.0838 - accuracy: 0.9524\n",
      "Epoch 394/400\n",
      "2/2 [==============================] - 0s 6ms/step - loss: 0.0873 - accuracy: 0.9286\n",
      "Epoch 395/400\n",
      "2/2 [==============================] - 0s 0s/step - loss: 0.0907 - accuracy: 0.9286\n",
      "Epoch 396/400\n",
      "2/2 [==============================] - 0s 0s/step - loss: 0.0981 - accuracy: 0.9286\n",
      "Epoch 397/400\n",
      "2/2 [==============================] - 0s 6ms/step - loss: 0.0946 - accuracy: 0.9286\n",
      "Epoch 398/400\n",
      "2/2 [==============================] - 0s 6ms/step - loss: 0.0874 - accuracy: 0.9286\n",
      "Epoch 399/400\n",
      "2/2 [==============================] - 0s 0s/step - loss: 0.0810 - accuracy: 0.9524\n",
      "Epoch 400/400\n",
      "2/2 [==============================] - 0s 5ms/step - loss: 0.0820 - accuracy: 0.9524\n"
     ]
    }
   ],
   "source": [
    "history=model.fit(np.array(padded_sequence),training_labels,epochs=400)\n"
   ]
  },
  {
   "cell_type": "markdown",
   "metadata": {
    "id": "zMigw85Xrt6O"
   },
   "source": [
    "Save Model"
   ]
  },
  {
   "cell_type": "code",
   "execution_count": 66,
   "metadata": {
    "colab": {
     "base_uri": "https://localhost:8080/"
    },
    "id": "VXwyMxiGvVXU",
    "outputId": "3c7670bc-0e9d-4b0e-afdf-b10936c8942d"
   },
   "outputs": [
    {
     "name": "stdout",
     "output_type": "stream",
     "text": [
      "[[ 0  0  0  0  0  0  0  0  0  0  0  0  0  0  0  0  0  0  0 47]]\n",
      "1/1 [==============================] - 0s 81ms/step\n",
      "11\n",
      "['greeting']\n"
     ]
    }
   ],
   "source": [
    "inp='hello'\n",
    "sent=pad_sequences(toknizer.texts_to_sequences([inp]),maxlen=20)\n",
    "print(sent)\n",
    "result=np.argmax(model.predict(np.array(sent))) # 0-7 \n",
    "print(result)\n",
    "f_res=le.inverse_transform(np.array(result).reshape(1))\n",
    "print(f_res)"
   ]
  },
  {
   "cell_type": "markdown",
   "metadata": {},
   "source": [
    "## Save Model\n"
   ]
  },
  {
   "cell_type": "code",
   "execution_count": 24,
   "metadata": {},
   "outputs": [],
   "source": [
    "tokenizer_json = toknizer.to_json()\n",
    "with open('tokenizer.json', 'w') as json_file:\n",
    "    json_file.write(tokenizer_json)\n",
    "\n",
    "# Save label encoder to JSON\n",
    "label_encoder_json = json.dumps(le.classes_.tolist())\n",
    "with open('label_encoder.json', 'w') as json_file:\n",
    "    json_file.write(label_encoder_json)"
   ]
  },
  {
   "cell_type": "code",
   "execution_count": 67,
   "metadata": {},
   "outputs": [],
   "source": [
    "import pickle as pk \n",
    "#save tokinizer\n",
    "pk.dump(toknizer,open(\"toknizer.pkl\",\"wb\"))"
   ]
  },
  {
   "cell_type": "code",
   "execution_count": 68,
   "metadata": {},
   "outputs": [],
   "source": [
    "#save encoder\n",
    "pk.dump(le,open(\"label_encoder.pkl\",\"wb\"))"
   ]
  },
  {
   "cell_type": "code",
   "execution_count": 69,
   "metadata": {
    "id": "Nyz31ew_rtbK"
   },
   "outputs": [
    {
     "name": "stderr",
     "output_type": "stream",
     "text": [
      "c:\\Users\\Campos\\.conda\\envs\\tf\\Lib\\site-packages\\keras\\src\\engine\\training.py:3103: UserWarning: You are saving your model as an HDF5 file via `model.save()`. This file format is considered legacy. We recommend using instead the native Keras format, e.g. `model.save('my_model.keras')`.\n",
      "  saving_api.save_model(\n"
     ]
    }
   ],
   "source": [
    "model.save('model.h5') # save model \n",
    "from tensorflow.keras.models import load_model\n",
    "model=load_model('model.h5') # load model "
   ]
  },
  {
   "cell_type": "code",
   "execution_count": 70,
   "metadata": {},
   "outputs": [
    {
     "name": "stdout",
     "output_type": "stream",
     "text": [
      "INFO:tensorflow:Assets written to: C:\\Users\\Campos\\AppData\\Local\\Temp\\tmp2h96uoc0\\assets\n"
     ]
    },
    {
     "name": "stderr",
     "output_type": "stream",
     "text": [
      "INFO:tensorflow:Assets written to: C:\\Users\\Campos\\AppData\\Local\\Temp\\tmp2h96uoc0\\assets\n"
     ]
    }
   ],
   "source": [
    "from tensorflow.keras.models import load_model\n",
    "model=load_model('model.h5')\n",
    "converter = tf.lite.TFLiteConverter.from_keras_model(model)\n",
    "tflite_model = converter.convert()\n",
    "\n",
    "with open('model.tflite', 'wb') as f:\n",
    "    f.write(tflite_model)"
   ]
  },
  {
   "cell_type": "markdown",
   "metadata": {
    "id": "k2YhYdDXrq9h"
   },
   "source": [
    "Interface"
   ]
  },
  {
   "cell_type": "code",
   "execution_count": 30,
   "metadata": {
    "id": "RIjWXav_q_13"
   },
   "outputs": [],
   "source": [
    "def user_chat():\n",
    "    while True :\n",
    "        print(\"User : \",end=\"\") \n",
    "        inp=input()\n",
    "\n",
    "        if inp.lower()=='quit':\n",
    "            break\n",
    "        \n",
    "        sent=pad_sequences(toknizer.texts_to_sequences([inp]),maxlen=20) #[] len=20\n",
    "\n",
    "        result=np.argmax(model.predict(np.array(sent),verbose=0)) # 0-7 \n",
    "        # 2 ,3 , 4\n",
    "        f_res=le.inverse_transform(np.array(result).reshape(1))\n",
    "\n",
    "\n",
    "        for label in data['data']:\n",
    "\n",
    "            if label['label']==f_res:\n",
    "\n",
    "                print('ChatBot : ',np.random.choice(label['responses']))\n",
    "\n"
   ]
  },
  {
   "cell_type": "code",
   "execution_count": 34,
   "metadata": {
    "colab": {
     "base_uri": "https://localhost:8080/"
    },
    "id": "glDzWm4Qtsol",
    "outputId": "01930605-c52b-44ba-af3c-dcd5926161c2"
   },
   "outputs": [
    {
     "name": "stdout",
     "output_type": "stream",
     "text": [
      "Start Conversation with Chatbot\n",
      "User : ChatBot :  Hi there\n",
      "User : ChatBot :  Hello\n",
      "User : ChatBot :  Mainly Arabic and Egyptian Arabic, with some English and French speakers.\n",
      "User : ChatBot :  Have a nice day\n",
      "User : ChatBot :  Have a nice day\n",
      "User : ChatBot :  Bye! Come back again\n",
      "User : ChatBot :  Have a nice day\n",
      "User : ChatBot :  See you later\n",
      "User : "
     ]
    }
   ],
   "source": [
    "print(\"Start Conversation with Chatbot\")\n",
    "user_chat()"
   ]
  },
  {
   "cell_type": "code",
   "execution_count": 73,
   "metadata": {
    "id": "qEJvo_PmtzPx"
   },
   "outputs": [
    {
     "data": {
      "text/plain": [
       "('2.0.9', '2.15.0', '1.4.0')"
      ]
     },
     "execution_count": 73,
     "metadata": {},
     "output_type": "execute_result"
    }
   ],
   "source": [
    "import json \n",
    "import tensorflow\n",
    "import sklearn\n",
    "json.__version__ , tf.__version__ ,sklearn.__version__"
   ]
  },
  {
   "cell_type": "code",
   "execution_count": null,
   "metadata": {},
   "outputs": [],
   "source": []
  },
  {
   "cell_type": "code",
   "execution_count": null,
   "metadata": {},
   "outputs": [],
   "source": []
  },
  {
   "cell_type": "code",
   "execution_count": null,
   "metadata": {},
   "outputs": [],
   "source": []
  },
  {
   "cell_type": "code",
   "execution_count": null,
   "metadata": {},
   "outputs": [],
   "source": []
  },
  {
   "cell_type": "code",
   "execution_count": null,
   "metadata": {},
   "outputs": [],
   "source": []
  },
  {
   "cell_type": "code",
   "execution_count": null,
   "metadata": {},
   "outputs": [],
   "source": []
  },
  {
   "cell_type": "code",
   "execution_count": null,
   "metadata": {},
   "outputs": [],
   "source": []
  }
 ],
 "metadata": {
  "colab": {
   "provenance": []
  },
  "kernelspec": {
   "display_name": "Python 3 (ipykernel)",
   "language": "python",
   "name": "python3"
  },
  "language_info": {
   "codemirror_mode": {
    "name": "ipython",
    "version": 3
   },
   "file_extension": ".py",
   "mimetype": "text/x-python",
   "name": "python",
   "nbconvert_exporter": "python",
   "pygments_lexer": "ipython3",
   "version": "3.11.7"
  }
 },
 "nbformat": 4,
 "nbformat_minor": 4
}
